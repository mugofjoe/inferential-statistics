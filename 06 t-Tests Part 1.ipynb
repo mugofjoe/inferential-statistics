{
 "cells": [
  {
   "cell_type": "markdown",
   "metadata": {},
   "source": [
    "# Student's t-Tests Part 1\n",
    "--------\n"
   ]
  },
  {
   "cell_type": "markdown",
   "metadata": {},
   "source": [
    "Scientists have looked at finches to make hypotheses about evolution.\n",
    "\n",
    "By mapping a trait over time like beak width, we can tell if an environment is selecting for a particular size of beak width. Maybe there’s a particular beak size that better helps the finch survive. Sometimes, there are random fluctuations in beak width due to variation in the population (some finches just have bigger beak widths than others). \n",
    "\n",
    "To determine whether there’s a significant change in width within the population over time, we need to use statistics.  \n",
    "\n",
    "If the mean beak width does significantly increase or decrease in size, this is referred to as directional selection.  Then the environment allows the survival and reproduction of finches with bigger beak widths.\n",
    "\n",
    "Population average beak width ($H_{0}$) is 6.07 mm."
   ]
  },
  {
   "cell_type": "markdown",
   "metadata": {},
   "source": [
    "#### Load the modules and configure some settings"
   ]
  },
  {
   "cell_type": "code",
   "execution_count": 35,
   "metadata": {
    "collapsed": true
   },
   "outputs": [],
   "source": [
    "%matplotlib inline"
   ]
  },
  {
   "cell_type": "code",
   "execution_count": 36,
   "metadata": {
    "collapsed": true
   },
   "outputs": [],
   "source": [
    "# Import modules\n",
    "import pandas as pd\n",
    "import numpy as np\n",
    "import matplotlib.pyplot as plt\n",
    "import matplotlib\n",
    "import seaborn as sns\n",
    "import scipy.stats as stats\n",
    "import math\n",
    "\n",
    "sns.set(rc={\"figure.figsize\": (8.5, 5.5)})\n",
    "sns.set_style('white')\n",
    "current_palette = matplotlib.colors.hex2color('#90A4AE')"
   ]
  },
  {
   "cell_type": "markdown",
   "metadata": {},
   "source": [
    "### Load the data"
   ]
  },
  {
   "cell_type": "code",
   "execution_count": 34,
   "metadata": {},
   "outputs": [
    {
     "ename": "IOError",
     "evalue": "File .\\datasets\\finches_lesson_10.csv does not exist",
     "output_type": "error",
     "traceback": [
      "\u001b[1;31m---------------------------------------------------------------------------\u001b[0m",
      "\u001b[1;31mIOError\u001b[0m                                   Traceback (most recent call last)",
      "\u001b[1;32m<ipython-input-34-e2743240fe6c>\u001b[0m in \u001b[0;36m<module>\u001b[1;34m()\u001b[0m\n\u001b[0;32m      1\u001b[0m \u001b[0mfilepath\u001b[0m \u001b[1;33m=\u001b[0m \u001b[1;34m'.\\\\datasets\\\\finches_lesson_10.csv'\u001b[0m\u001b[1;33m\u001b[0m\u001b[0m\n\u001b[1;32m----> 2\u001b[1;33m \u001b[0mbeak_widths\u001b[0m \u001b[1;33m=\u001b[0m \u001b[0mpd\u001b[0m\u001b[1;33m.\u001b[0m\u001b[0mread_csv\u001b[0m\u001b[1;33m(\u001b[0m\u001b[0mfilepath\u001b[0m\u001b[1;33m,\u001b[0m \u001b[0mnames\u001b[0m\u001b[1;33m=\u001b[0m\u001b[1;33m[\u001b[0m\u001b[1;34m'Beak_Width'\u001b[0m\u001b[1;33m]\u001b[0m\u001b[1;33m,\u001b[0m \u001b[0mheader\u001b[0m\u001b[1;33m=\u001b[0m\u001b[1;36m0\u001b[0m\u001b[1;33m)\u001b[0m\u001b[1;33m\u001b[0m\u001b[0m\n\u001b[0m\u001b[0;32m      3\u001b[0m \u001b[0mbeak_widths\u001b[0m\u001b[1;33m[\u001b[0m\u001b[1;33m:\u001b[0m\u001b[1;36m6\u001b[0m\u001b[1;33m]\u001b[0m\u001b[1;33m\u001b[0m\u001b[0m\n",
      "\u001b[1;32mE:\\Anaconda3\\envs\\DAND\\lib\\site-packages\\pandas\\io\\parsers.pyc\u001b[0m in \u001b[0;36mparser_f\u001b[1;34m(filepath_or_buffer, sep, delimiter, header, names, index_col, usecols, squeeze, prefix, mangle_dupe_cols, dtype, engine, converters, true_values, false_values, skipinitialspace, skiprows, nrows, na_values, keep_default_na, na_filter, verbose, skip_blank_lines, parse_dates, infer_datetime_format, keep_date_col, date_parser, dayfirst, iterator, chunksize, compression, thousands, decimal, lineterminator, quotechar, quoting, escapechar, comment, encoding, dialect, tupleize_cols, error_bad_lines, warn_bad_lines, skipfooter, skip_footer, doublequote, delim_whitespace, as_recarray, compact_ints, use_unsigned, low_memory, buffer_lines, memory_map, float_precision)\u001b[0m\n\u001b[0;32m    653\u001b[0m                     skip_blank_lines=skip_blank_lines)\n\u001b[0;32m    654\u001b[0m \u001b[1;33m\u001b[0m\u001b[0m\n\u001b[1;32m--> 655\u001b[1;33m         \u001b[1;32mreturn\u001b[0m \u001b[0m_read\u001b[0m\u001b[1;33m(\u001b[0m\u001b[0mfilepath_or_buffer\u001b[0m\u001b[1;33m,\u001b[0m \u001b[0mkwds\u001b[0m\u001b[1;33m)\u001b[0m\u001b[1;33m\u001b[0m\u001b[0m\n\u001b[0m\u001b[0;32m    656\u001b[0m \u001b[1;33m\u001b[0m\u001b[0m\n\u001b[0;32m    657\u001b[0m     \u001b[0mparser_f\u001b[0m\u001b[1;33m.\u001b[0m\u001b[0m__name__\u001b[0m \u001b[1;33m=\u001b[0m \u001b[0mname\u001b[0m\u001b[1;33m\u001b[0m\u001b[0m\n",
      "\u001b[1;32mE:\\Anaconda3\\envs\\DAND\\lib\\site-packages\\pandas\\io\\parsers.pyc\u001b[0m in \u001b[0;36m_read\u001b[1;34m(filepath_or_buffer, kwds)\u001b[0m\n\u001b[0;32m    403\u001b[0m \u001b[1;33m\u001b[0m\u001b[0m\n\u001b[0;32m    404\u001b[0m     \u001b[1;31m# Create the parser.\u001b[0m\u001b[1;33m\u001b[0m\u001b[1;33m\u001b[0m\u001b[0m\n\u001b[1;32m--> 405\u001b[1;33m     \u001b[0mparser\u001b[0m \u001b[1;33m=\u001b[0m \u001b[0mTextFileReader\u001b[0m\u001b[1;33m(\u001b[0m\u001b[0mfilepath_or_buffer\u001b[0m\u001b[1;33m,\u001b[0m \u001b[1;33m**\u001b[0m\u001b[0mkwds\u001b[0m\u001b[1;33m)\u001b[0m\u001b[1;33m\u001b[0m\u001b[0m\n\u001b[0m\u001b[0;32m    406\u001b[0m \u001b[1;33m\u001b[0m\u001b[0m\n\u001b[0;32m    407\u001b[0m     \u001b[1;32mif\u001b[0m \u001b[0mchunksize\u001b[0m \u001b[1;32mor\u001b[0m \u001b[0miterator\u001b[0m\u001b[1;33m:\u001b[0m\u001b[1;33m\u001b[0m\u001b[0m\n",
      "\u001b[1;32mE:\\Anaconda3\\envs\\DAND\\lib\\site-packages\\pandas\\io\\parsers.pyc\u001b[0m in \u001b[0;36m__init__\u001b[1;34m(self, f, engine, **kwds)\u001b[0m\n\u001b[0;32m    762\u001b[0m             \u001b[0mself\u001b[0m\u001b[1;33m.\u001b[0m\u001b[0moptions\u001b[0m\u001b[1;33m[\u001b[0m\u001b[1;34m'has_index_names'\u001b[0m\u001b[1;33m]\u001b[0m \u001b[1;33m=\u001b[0m \u001b[0mkwds\u001b[0m\u001b[1;33m[\u001b[0m\u001b[1;34m'has_index_names'\u001b[0m\u001b[1;33m]\u001b[0m\u001b[1;33m\u001b[0m\u001b[0m\n\u001b[0;32m    763\u001b[0m \u001b[1;33m\u001b[0m\u001b[0m\n\u001b[1;32m--> 764\u001b[1;33m         \u001b[0mself\u001b[0m\u001b[1;33m.\u001b[0m\u001b[0m_make_engine\u001b[0m\u001b[1;33m(\u001b[0m\u001b[0mself\u001b[0m\u001b[1;33m.\u001b[0m\u001b[0mengine\u001b[0m\u001b[1;33m)\u001b[0m\u001b[1;33m\u001b[0m\u001b[0m\n\u001b[0m\u001b[0;32m    765\u001b[0m \u001b[1;33m\u001b[0m\u001b[0m\n\u001b[0;32m    766\u001b[0m     \u001b[1;32mdef\u001b[0m \u001b[0mclose\u001b[0m\u001b[1;33m(\u001b[0m\u001b[0mself\u001b[0m\u001b[1;33m)\u001b[0m\u001b[1;33m:\u001b[0m\u001b[1;33m\u001b[0m\u001b[0m\n",
      "\u001b[1;32mE:\\Anaconda3\\envs\\DAND\\lib\\site-packages\\pandas\\io\\parsers.pyc\u001b[0m in \u001b[0;36m_make_engine\u001b[1;34m(self, engine)\u001b[0m\n\u001b[0;32m    983\u001b[0m     \u001b[1;32mdef\u001b[0m \u001b[0m_make_engine\u001b[0m\u001b[1;33m(\u001b[0m\u001b[0mself\u001b[0m\u001b[1;33m,\u001b[0m \u001b[0mengine\u001b[0m\u001b[1;33m=\u001b[0m\u001b[1;34m'c'\u001b[0m\u001b[1;33m)\u001b[0m\u001b[1;33m:\u001b[0m\u001b[1;33m\u001b[0m\u001b[0m\n\u001b[0;32m    984\u001b[0m         \u001b[1;32mif\u001b[0m \u001b[0mengine\u001b[0m \u001b[1;33m==\u001b[0m \u001b[1;34m'c'\u001b[0m\u001b[1;33m:\u001b[0m\u001b[1;33m\u001b[0m\u001b[0m\n\u001b[1;32m--> 985\u001b[1;33m             \u001b[0mself\u001b[0m\u001b[1;33m.\u001b[0m\u001b[0m_engine\u001b[0m \u001b[1;33m=\u001b[0m \u001b[0mCParserWrapper\u001b[0m\u001b[1;33m(\u001b[0m\u001b[0mself\u001b[0m\u001b[1;33m.\u001b[0m\u001b[0mf\u001b[0m\u001b[1;33m,\u001b[0m \u001b[1;33m**\u001b[0m\u001b[0mself\u001b[0m\u001b[1;33m.\u001b[0m\u001b[0moptions\u001b[0m\u001b[1;33m)\u001b[0m\u001b[1;33m\u001b[0m\u001b[0m\n\u001b[0m\u001b[0;32m    986\u001b[0m         \u001b[1;32melse\u001b[0m\u001b[1;33m:\u001b[0m\u001b[1;33m\u001b[0m\u001b[0m\n\u001b[0;32m    987\u001b[0m             \u001b[1;32mif\u001b[0m \u001b[0mengine\u001b[0m \u001b[1;33m==\u001b[0m \u001b[1;34m'python'\u001b[0m\u001b[1;33m:\u001b[0m\u001b[1;33m\u001b[0m\u001b[0m\n",
      "\u001b[1;32mE:\\Anaconda3\\envs\\DAND\\lib\\site-packages\\pandas\\io\\parsers.pyc\u001b[0m in \u001b[0;36m__init__\u001b[1;34m(self, src, **kwds)\u001b[0m\n\u001b[0;32m   1603\u001b[0m         \u001b[0mkwds\u001b[0m\u001b[1;33m[\u001b[0m\u001b[1;34m'allow_leading_cols'\u001b[0m\u001b[1;33m]\u001b[0m \u001b[1;33m=\u001b[0m \u001b[0mself\u001b[0m\u001b[1;33m.\u001b[0m\u001b[0mindex_col\u001b[0m \u001b[1;32mis\u001b[0m \u001b[1;32mnot\u001b[0m \u001b[0mFalse\u001b[0m\u001b[1;33m\u001b[0m\u001b[0m\n\u001b[0;32m   1604\u001b[0m \u001b[1;33m\u001b[0m\u001b[0m\n\u001b[1;32m-> 1605\u001b[1;33m         \u001b[0mself\u001b[0m\u001b[1;33m.\u001b[0m\u001b[0m_reader\u001b[0m \u001b[1;33m=\u001b[0m \u001b[0mparsers\u001b[0m\u001b[1;33m.\u001b[0m\u001b[0mTextReader\u001b[0m\u001b[1;33m(\u001b[0m\u001b[0msrc\u001b[0m\u001b[1;33m,\u001b[0m \u001b[1;33m**\u001b[0m\u001b[0mkwds\u001b[0m\u001b[1;33m)\u001b[0m\u001b[1;33m\u001b[0m\u001b[0m\n\u001b[0m\u001b[0;32m   1606\u001b[0m \u001b[1;33m\u001b[0m\u001b[0m\n\u001b[0;32m   1607\u001b[0m         \u001b[1;31m# XXX\u001b[0m\u001b[1;33m\u001b[0m\u001b[1;33m\u001b[0m\u001b[0m\n",
      "\u001b[1;32mpandas/_libs/parsers.pyx\u001b[0m in \u001b[0;36mpandas._libs.parsers.TextReader.__cinit__ (pandas\\_libs\\parsers.c:4209)\u001b[1;34m()\u001b[0m\n",
      "\u001b[1;32mpandas/_libs/parsers.pyx\u001b[0m in \u001b[0;36mpandas._libs.parsers.TextReader._setup_parser_source (pandas\\_libs\\parsers.c:8873)\u001b[1;34m()\u001b[0m\n",
      "\u001b[1;31mIOError\u001b[0m: File .\\datasets\\finches_lesson_10.csv does not exist"
     ]
    }
   ],
   "source": [
    "filepath = '.\\\\datasets\\\\finches_lesson_10.csv'\n",
    "beak_widths = pd.read_csv(filepath, names=['Beak_Width'], header=0)\n",
    "beak_widths[:6]"
   ]
  },
  {
   "cell_type": "markdown",
   "metadata": {},
   "source": [
    "### Descriptive statistics"
   ]
  },
  {
   "cell_type": "code",
   "execution_count": null,
   "metadata": {},
   "outputs": [],
   "source": [
    "beak_widths.describe()"
   ]
  },
  {
   "cell_type": "code",
   "execution_count": null,
   "metadata": {
    "scrolled": true
   },
   "outputs": [],
   "source": [
    "beak_widths.info()"
   ]
  },
  {
   "cell_type": "code",
   "execution_count": null,
   "metadata": {},
   "outputs": [],
   "source": [
    "sns.distplot(beak_widths, bins=20,\\\n",
    "             hist_kws={\"alpha\": 0.7, \"color\": current_palette},\\\n",
    "             kde=False);"
   ]
  },
  {
   "cell_type": "code",
   "execution_count": null,
   "metadata": {},
   "outputs": [],
   "source": [
    "bk_mean = round(np.mean(beak_widths[\"Beak_Width\"]), 2)\n",
    "bk_std  = round(np.std(beak_widths[\"Beak_Width\"], ddof=1), 2)\n",
    "print \"Sample mean: {0}\".format(bk_mean)\n",
    "print \"Sample stdev: {0}\".format(bk_std)\n"
   ]
  },
  {
   "cell_type": "markdown",
   "metadata": {},
   "source": [
    "Since we are dealing a sample standard deviation, we use the `ddof=1` argument to calculate the sample standard deviation."
   ]
  },
  {
   "cell_type": "markdown",
   "metadata": {},
   "source": [
    "### Problem\n",
    "\n",
    "Do finches today have a beak widths that are different from before?"
   ]
  },
  {
   "cell_type": "markdown",
   "metadata": {},
   "source": [
    "## Confidence interval for a sample (t-distribution)"
   ]
  },
  {
   "cell_type": "markdown",
   "metadata": {},
   "source": [
    "Find the 95% confidence interval for a sample of 500 finch beak widths.\n",
    "\n",
    "Confidence interval for unknown population standard deviation:\n",
    "\n",
    "$$CI \\ = \\ \\bar{x} \\ \\pm \\ t^*SE \\ \\ = \\ \\ \\bar{x} \\ \\pm \\ t^* \\frac{s}{\\sqrt{n}}$$\n",
    "\n",
    "#### Degrees of freedom"
   ]
  },
  {
   "cell_type": "code",
   "execution_count": null,
   "metadata": {},
   "outputs": [],
   "source": [
    "# Sample size\n",
    "n = len(beak_widths)\n",
    "\n",
    "# Degrees of freedom\n",
    "dof = n - 1 \n",
    "\n",
    "print \"Sample size: {0}\".format(n)\n",
    "print \"Degrees of freedom: {0}\".format(dof)"
   ]
  },
  {
   "cell_type": "markdown",
   "metadata": {},
   "source": [
    "#### Confidence level and t-critical value for the confidence interval"
   ]
  },
  {
   "cell_type": "code",
   "execution_count": null,
   "metadata": {},
   "outputs": [],
   "source": [
    "import scipy.stats as stats\n",
    "\n",
    "# 95% confidence level\n",
    "conf_level = 0.95  \n",
    "\n",
    "# Probability region beyond middle 95%\n",
    "p_alpha_ci = (1 - conf_level)/2  \n",
    "\n",
    "t_crit_ci = abs(round(stats.t.ppf(p_alpha_ci, dof), 2))\n",
    "print \"t* critical value for CI: {0}\".format((t_crit_ci))\n"
   ]
  },
  {
   "cell_type": "markdown",
   "metadata": {},
   "source": [
    "#### Standard error"
   ]
  },
  {
   "cell_type": "code",
   "execution_count": null,
   "metadata": {
    "scrolled": true
   },
   "outputs": [],
   "source": [
    "bk_SE = bk_std/math.sqrt(n)\n",
    "print \"Standard error: {0}\".format(bk_SE)"
   ]
  },
  {
   "cell_type": "markdown",
   "metadata": {},
   "source": [
    "#### Margin of error"
   ]
  },
  {
   "cell_type": "code",
   "execution_count": null,
   "metadata": {},
   "outputs": [],
   "source": [
    "bk_ME = t_crit_ci * bk_SE\n",
    "print \"Margin of error: {0}\".format(bk_ME)"
   ]
  },
  {
   "cell_type": "markdown",
   "metadata": {},
   "source": [
    "#### Confidence interval lower bound"
   ]
  },
  {
   "cell_type": "code",
   "execution_count": null,
   "metadata": {},
   "outputs": [],
   "source": [
    "bk_ci_lower = bk_mean - bk_ME\n",
    "print \"CI lower bound: {0}  (mean = {1})\".format(bk_ci_lower, bk_mean)"
   ]
  },
  {
   "cell_type": "markdown",
   "metadata": {},
   "source": [
    "#### Confidence interval upper bound"
   ]
  },
  {
   "cell_type": "code",
   "execution_count": null,
   "metadata": {
    "scrolled": true
   },
   "outputs": [],
   "source": [
    "bk_ci_upper = bk_mean + bk_ME\n",
    "print \"CI upper bound: {0}  (mean = {1})\".format(bk_ci_upper, bk_mean)"
   ]
  },
  {
   "cell_type": "markdown",
   "metadata": {},
   "source": [
    "We are 95% confident that the population mean that can be inferred from our sample point estimate (6.47 mm) lies between 6.43 mm to 6.51 mm."
   ]
  },
  {
   "cell_type": "markdown",
   "metadata": {},
   "source": [
    "### Findings\n",
    "\n",
    "Remember that the population average finch beak width ($H_{0}$) was 6.07 mm. \n",
    "\n",
    "Our new sample with a sample mean of 6.47 and a sample standard deviation of 0.40 has a 95% confidencec interval of from 6.43 to 6.51. \n",
    "\n",
    "The population mean is much less than the lower bound of the sample's confidence interval (a difference of 0.36).\n",
    "\n",
    "This gives evidence that the distribution of our sample may have come from a significantly different distribution than the current population of finch beak widths at the 95% confidence level."
   ]
  },
  {
   "cell_type": "markdown",
   "metadata": {},
   "source": [
    "Let's analyze this further by conducting a formal hypothesis test of our sample."
   ]
  },
  {
   "cell_type": "markdown",
   "metadata": {},
   "source": [
    "### Hypotheses\n",
    "\n",
    "Our null hypothesis is that the population mean for finches today is equal to what they have been.\n",
    "\n",
    "H0: 𝛍 = 6.07\n",
    "\n",
    "Since we just want to know if finches have different sized beak widths but we’re not concerned if the beaks are greater or less than what they were before, then our alternative hypothesis is:\n",
    "\n",
    "HA: 𝛍 ≠ 6.07"
   ]
  },
  {
   "cell_type": "markdown",
   "metadata": {},
   "source": [
    "### The t-statistic of the mean"
   ]
  },
  {
   "cell_type": "code",
   "execution_count": 37,
   "metadata": {
    "collapsed": true
   },
   "outputs": [],
   "source": [
    "def t_stat(xbar, mu, s, n):\n",
    "    mean_diff = xbar - mu\n",
    "    std_err = s/math.sqrt(n)\n",
    "    result = mean_diff/std_err\n",
    "    return result    "
   ]
  },
  {
   "cell_type": "code",
   "execution_count": null,
   "metadata": {},
   "outputs": [],
   "source": [
    "# Population mean\n",
    "p_mean = 6.07\n",
    "n = len(beak_widths)\n",
    "\n",
    "t_statistic = round(t_stat(bk_mean, p_mean, bk_std, n), 2)\n",
    "print \"t-statistic for mean {0} is {1}\".format(bk_mean, t_statistic)"
   ]
  },
  {
   "cell_type": "markdown",
   "metadata": {},
   "source": [
    "### The t-critical value for a two-tailed test"
   ]
  },
  {
   "cell_type": "markdown",
   "metadata": {},
   "source": [
    "I decide to conduct the two-tailed hypothesis t-test with an alpha level of 0.05 (𝛂 = 0.05).\n",
    "\n",
    "Since it is two-tailed and the distribution is symmetric, I need to divide 0.05 by 2 to get the proportion for each of the t-critical regions ( 𝛂 / 2 = 0.025 )\n"
   ]
  },
  {
   "cell_type": "code",
   "execution_count": null,
   "metadata": {},
   "outputs": [],
   "source": [
    "alpha_p = 0.025\n",
    "\n",
    "t_crit = round(abs(stats.t.ppf(alpha_p, dof)), 2)\n",
    "print \"t-critical value: {0}\".format(t_crit)"
   ]
  },
  {
   "cell_type": "markdown",
   "metadata": {},
   "source": [
    "### Decision\n",
    "\n",
    "The t-statistic for the beak width of 6.47 mm is 22.36. This is considerably larger than the two-tailed t-critical value of 1.96 at an alpha level of 0.05 with 499 degrees of freedom."
   ]
  },
  {
   "cell_type": "markdown",
   "metadata": {},
   "source": [
    "We reject $H_0$ because the test-statistic is huge and we know that this will fall beyond the t-critical value no matter what significance level (alpha) we choose (the smallest being 0.01).\n",
    "\n",
    "We also had this observation in our confidence interval discussion above.\n",
    "\n",
    "Rejecting $H_{0}$ means that the probability of getting a t-statistic (the probability of getting a sample mean $\\bar{x} = 6.47$ ) from a population with mean $\\mu = 6.07$ is very, very small. That's the **p-value**.\n",
    "\n",
    "\n",
    "> p-value is the probability of getting a t-statistic if the null hypothesis is true. \n",
    "\n",
    "Since the probability is so small, then there must be something else going on. The null hypothesis is probably not true. \n",
    "\n",
    "Finches with a beak width of 6.47 (our sample mean) come from an entirely new population (not equal to $\\mu = 6.07$ as the mean)."
   ]
  },
  {
   "cell_type": "markdown",
   "metadata": {},
   "source": [
    "## P-value\n",
    "\n",
    "We are given a sample of 8 integers with a population mean of 10."
   ]
  },
  {
   "cell_type": "code",
   "execution_count": null,
   "metadata": {},
   "outputs": [],
   "source": [
    "sample1 = np.array([5, 19, 11, 23, 12, 7, 3, 21])\n",
    "sample1"
   ]
  },
  {
   "cell_type": "markdown",
   "metadata": {},
   "source": [
    "Is the mean of the sample significantly different from 10 at an alpha level of 0.05?"
   ]
  },
  {
   "cell_type": "code",
   "execution_count": null,
   "metadata": {},
   "outputs": [],
   "source": [
    "# sample size\n",
    "s1_size = len(sample1)\n",
    "s1_dof  = s1_size - 1\n",
    "\n",
    "print \"sample size: {0}\".format(s1_size)\n",
    "print \"degrees of freedom: {0}\".format(s1_dof)"
   ]
  },
  {
   "cell_type": "markdown",
   "metadata": {},
   "source": [
    "First, let's calculate the t-statistic."
   ]
  },
  {
   "cell_type": "code",
   "execution_count": null,
   "metadata": {},
   "outputs": [],
   "source": [
    "s1_mean = np.mean(sample1)\n",
    "s1_std  = np.std(sample1, ddof=1)\n",
    "\n",
    "print \"sample mean: {0}\".format(round(s1_mean, 2))\n",
    "print \"sample stdev: {0}\".format(round(s1_std, 2))"
   ]
  },
  {
   "cell_type": "markdown",
   "metadata": {},
   "source": [
    "Here's the information about the current population:"
   ]
  },
  {
   "cell_type": "code",
   "execution_count": null,
   "metadata": {
    "collapsed": true
   },
   "outputs": [],
   "source": [
    "pop_mean = 10"
   ]
  },
  {
   "cell_type": "code",
   "execution_count": null,
   "metadata": {},
   "outputs": [],
   "source": [
    "# Calculate the t-statistic\n",
    "s1_t_stat = t_stat(s1_mean, pop_mean, s1_std, s1_size)\n",
    "print \"sample t-statistic: {0}\".format(s1_t_stat)"
   ]
  },
  {
   "cell_type": "markdown",
   "metadata": {},
   "source": [
    "## How to get the p-value for a t-distribution"
   ]
  },
  {
   "cell_type": "markdown",
   "metadata": {},
   "source": [
    "Given a t-statistic and degrees of freedom, we can use the survival function (`sf`) of the `t` namespace (aka the complementary CDF) to compute the one-sided p-value. \n",
    "\n",
    "The first argument is the t-statistic and the second is the degrees of freedom.\n",
    "\n",
    "The two-sided p-value can be obtained by doubling the result from the one-sided p-value."
   ]
  },
  {
   "cell_type": "code",
   "execution_count": null,
   "metadata": {},
   "outputs": [],
   "source": [
    "from scipy.stats import t\n",
    "\n",
    "# one-tailed p-value (t-distribution)\n",
    "s1_pvalue_1S = t.sf(s1_t_stat, s1_dof)  \n",
    "s1_pvalue_2S = 2 * s1_pvalue_1S\n",
    "print \"P-value of sample (two-tailed): {0}\".format(s1_pvalue_2S)"
   ]
  },
  {
   "cell_type": "markdown",
   "metadata": {},
   "source": [
    "This means that the difference between the sample mean of 12.63 and the current population mean of 10.00 is not statistically significant at an alpha of 0.05 because the probability (p-value of 0.361) is greater than our alpha level (significance level) of 0.05.\n",
    "\n",
    "Therefore, we fail to reject the null and we are sticking to the assumption that the population that our sample is taken from is not significantly different from 10.\n",
    "\n",
    "`p-value > 0.05`"
   ]
  },
  {
   "cell_type": "markdown",
   "metadata": {},
   "source": [
    "#### Another way of determining the p-value on both sides of the two-tailed t-distribution"
   ]
  },
  {
   "cell_type": "markdown",
   "metadata": {},
   "source": [
    "Once again display the t-statistic."
   ]
  },
  {
   "cell_type": "code",
   "execution_count": null,
   "metadata": {},
   "outputs": [],
   "source": [
    "s1_t_stat"
   ]
  },
  {
   "cell_type": "markdown",
   "metadata": {},
   "source": [
    "stats.t.cdf(s1_t_stat, s1_dof)"
   ]
  },
  {
   "cell_type": "markdown",
   "metadata": {},
   "source": [
    "The proportion below the t-statistic can be determined using the following code. This gives the probability of selecting a sample with a mean less than our sample mean."
   ]
  },
  {
   "cell_type": "code",
   "execution_count": null,
   "metadata": {},
   "outputs": [],
   "source": [
    "stats.t.cdf(s1_t_stat, s1_dof)"
   ]
  },
  {
   "cell_type": "markdown",
   "metadata": {},
   "source": [
    "However, we are interested in the probability of selecting a sample with a sample mean that is exactly or greater (or lesser) than our sample mean on both sides of the t-distribution.\n",
    "\n",
    "Once we have the proportion of one of the tails, we just multiply it by 2 to get the total proportion for both tails."
   ]
  },
  {
   "cell_type": "code",
   "execution_count": null,
   "metadata": {},
   "outputs": [],
   "source": [
    "(1 - stats.t.cdf(s1_t_stat, s1_dof))*2"
   ]
  },
  {
   "cell_type": "markdown",
   "metadata": {},
   "source": [
    "----\n"
   ]
  },
  {
   "cell_type": "markdown",
   "metadata": {},
   "source": [
    "# Case Study: Rent (two-tailed t-Test)\n",
    "\n",
    "$H_{0} = 1830$\n",
    "\n",
    "$H_{A} \\ne 1830$\n",
    "\n",
    "$\\bar{x} = 1700; \\ s= 200; \\alpha \\ = \\ 0.05$\n",
    "\n",
    "Find the t-critical value for a two-tailed test at 𝛂 = 0.05"
   ]
  },
  {
   "cell_type": "code",
   "execution_count": null,
   "metadata": {},
   "outputs": [],
   "source": [
    "n = 25\n",
    "dof = n - 1\n",
    "rent_pop_mean = 1830\n",
    "rent_mean = 1700\n",
    "rent_stdev = 200\n",
    "\n",
    "alpha = 0.05\n",
    "alpha_p = 0.05/2\n",
    "\n",
    "t_crit = round(abs(stats.t.ppf(alpha_p, dof)), 3)\n",
    "print \"t-critical value: {0}\".format(t_crit)"
   ]
  },
  {
   "cell_type": "code",
   "execution_count": null,
   "metadata": {},
   "outputs": [],
   "source": [
    "# Standard error\n",
    "rent_SE = rent_stdev/math.sqrt(n)\n",
    "print \"standard error: {0}\".format(rent_SE)"
   ]
  },
  {
   "cell_type": "code",
   "execution_count": null,
   "metadata": {},
   "outputs": [],
   "source": [
    "# Calculate the t-statistic\n",
    "rent_t_stat = round(t_stat(rent_mean, rent_pop_mean, rent_stdev, n), 2)\n",
    "print \"t-statistic for mean {0} is {1}\".format(rent_mean, rent_t_stat)"
   ]
  },
  {
   "cell_type": "markdown",
   "metadata": {},
   "source": [
    "### Cohen's d"
   ]
  },
  {
   "cell_type": "code",
   "execution_count": 38,
   "metadata": {
    "collapsed": true
   },
   "outputs": [],
   "source": [
    "from __future__ import division\n",
    "\n",
    "def cohens(xbar, mu, s):\n",
    "    mean_diff = xbar - mu\n",
    "    result = mean_diff/s\n",
    "    return result   "
   ]
  },
  {
   "cell_type": "code",
   "execution_count": null,
   "metadata": {
    "scrolled": true
   },
   "outputs": [],
   "source": [
    "rent_cohens = cohens(rent_mean, rent_pop_mean, rent_stdev)\n",
    "print \"cohen's d: {0}\".format(rent_cohens)"
   ]
  },
  {
   "cell_type": "markdown",
   "metadata": {},
   "source": [
    "> Cohen's d is a common measure of effect size which can be used to tell the standardized difference between two means. The difference between Rental California and Santa Clara County's  average rent is moderate."
   ]
  },
  {
   "cell_type": "markdown",
   "metadata": {},
   "source": [
    "### Decision\n",
    "\n",
    "Since our t-statistic (-3.25)  is in the critical region past the t-critical value (-2.064), in this case the left critical region, the sample data provides evidence of a difference between the mean apartment rental rates of Rental California as compared to the mean rental rates in Santa Clara County. Therefore, we we reject the null hypothesis that there is no difference in rental rates between Rental California and Santa Clara County as a whole. Further, Cohen's effect size value (d= -.65) suggested a moderate practical significance.\n",
    "\n",
    "Rental California charges significantly less for rent than in Santa Clara County as a whole.\n"
   ]
  },
  {
   "cell_type": "markdown",
   "metadata": {},
   "source": [
    "-----\n",
    "\n"
   ]
  },
  {
   "cell_type": "markdown",
   "metadata": {},
   "source": [
    "# Case Study: Keyboards (Dependend t-test for paired samples)"
   ]
  },
  {
   "cell_type": "markdown",
   "metadata": {},
   "source": [
    "Repeated measures design - where every participant gets both treatments. \n",
    "\n",
    "There are two cellphones with different keyboard configurations. A researcher is interested in the effects of the cellphone configurations on errors made in typing text messages. \n",
    "\n",
    "To study this, 25 participants used each keyboard type (QWERTY and alphabetical). They typed a standardized twenty-word text message within 30 seconds. The number of errors for each person using each type of keyboard was recorded.  \n",
    "\n",
    "These participants were randomly assigned to which type of keyboard they used first. \n"
   ]
  },
  {
   "cell_type": "code",
   "execution_count": 39,
   "metadata": {
    "scrolled": true
   },
   "outputs": [
    {
     "data": {
      "text/html": [
       "<div>\n",
       "<style>\n",
       "    .dataframe thead tr:only-child th {\n",
       "        text-align: right;\n",
       "    }\n",
       "\n",
       "    .dataframe thead th {\n",
       "        text-align: left;\n",
       "    }\n",
       "\n",
       "    .dataframe tbody tr th {\n",
       "        vertical-align: top;\n",
       "    }\n",
       "</style>\n",
       "<table border=\"1\" class=\"dataframe\">\n",
       "  <thead>\n",
       "    <tr style=\"text-align: right;\">\n",
       "      <th></th>\n",
       "      <th>Errors_Q</th>\n",
       "      <th>Errors_A</th>\n",
       "    </tr>\n",
       "  </thead>\n",
       "  <tbody>\n",
       "    <tr>\n",
       "      <th>0</th>\n",
       "      <td>6</td>\n",
       "      <td>6</td>\n",
       "    </tr>\n",
       "    <tr>\n",
       "      <th>1</th>\n",
       "      <td>6</td>\n",
       "      <td>11</td>\n",
       "    </tr>\n",
       "    <tr>\n",
       "      <th>2</th>\n",
       "      <td>2</td>\n",
       "      <td>8</td>\n",
       "    </tr>\n",
       "    <tr>\n",
       "      <th>3</th>\n",
       "      <td>7</td>\n",
       "      <td>5</td>\n",
       "    </tr>\n",
       "    <tr>\n",
       "      <th>4</th>\n",
       "      <td>8</td>\n",
       "      <td>11</td>\n",
       "    </tr>\n",
       "    <tr>\n",
       "      <th>5</th>\n",
       "      <td>8</td>\n",
       "      <td>8</td>\n",
       "    </tr>\n",
       "  </tbody>\n",
       "</table>\n",
       "</div>"
      ],
      "text/plain": [
       "   Errors_Q  Errors_A\n",
       "0         6         6\n",
       "1         6        11\n",
       "2         2         8\n",
       "3         7         5\n",
       "4         8        11\n",
       "5         8         8"
      ]
     },
     "execution_count": 39,
     "metadata": {},
     "output_type": "execute_result"
    }
   ],
   "source": [
    "filepath = '.\\\\datasets\\\\keyboards_lesson_10.csv'\n",
    "keyboards = pd.read_csv(filepath, names=['Errors_Q', 'Errors_A'], header=0)\n",
    "keyboards[:6]"
   ]
  },
  {
   "cell_type": "code",
   "execution_count": 40,
   "metadata": {},
   "outputs": [
    {
     "name": "stdout",
     "output_type": "stream",
     "text": [
      "<class 'pandas.core.frame.DataFrame'>\n",
      "RangeIndex: 25 entries, 0 to 24\n",
      "Data columns (total 2 columns):\n",
      "Errors_Q    25 non-null int64\n",
      "Errors_A    25 non-null int64\n",
      "dtypes: int64(2)\n",
      "memory usage: 472.0 bytes\n"
     ]
    }
   ],
   "source": [
    "keyboards.info()"
   ]
  },
  {
   "cell_type": "code",
   "execution_count": 41,
   "metadata": {
    "scrolled": true
   },
   "outputs": [
    {
     "data": {
      "text/html": [
       "<div>\n",
       "<style>\n",
       "    .dataframe thead tr:only-child th {\n",
       "        text-align: right;\n",
       "    }\n",
       "\n",
       "    .dataframe thead th {\n",
       "        text-align: left;\n",
       "    }\n",
       "\n",
       "    .dataframe tbody tr th {\n",
       "        vertical-align: top;\n",
       "    }\n",
       "</style>\n",
       "<table border=\"1\" class=\"dataframe\">\n",
       "  <thead>\n",
       "    <tr style=\"text-align: right;\">\n",
       "      <th></th>\n",
       "      <th>Errors_Q</th>\n",
       "      <th>Errors_A</th>\n",
       "    </tr>\n",
       "  </thead>\n",
       "  <tbody>\n",
       "    <tr>\n",
       "      <th>count</th>\n",
       "      <td>25.000000</td>\n",
       "      <td>25.000000</td>\n",
       "    </tr>\n",
       "    <tr>\n",
       "      <th>mean</th>\n",
       "      <td>5.080000</td>\n",
       "      <td>7.800000</td>\n",
       "    </tr>\n",
       "    <tr>\n",
       "      <th>std</th>\n",
       "      <td>2.059935</td>\n",
       "      <td>2.645751</td>\n",
       "    </tr>\n",
       "    <tr>\n",
       "      <th>min</th>\n",
       "      <td>2.000000</td>\n",
       "      <td>3.000000</td>\n",
       "    </tr>\n",
       "    <tr>\n",
       "      <th>25%</th>\n",
       "      <td>4.000000</td>\n",
       "      <td>6.000000</td>\n",
       "    </tr>\n",
       "    <tr>\n",
       "      <th>50%</th>\n",
       "      <td>5.000000</td>\n",
       "      <td>8.000000</td>\n",
       "    </tr>\n",
       "    <tr>\n",
       "      <th>75%</th>\n",
       "      <td>7.000000</td>\n",
       "      <td>10.000000</td>\n",
       "    </tr>\n",
       "    <tr>\n",
       "      <th>max</th>\n",
       "      <td>10.000000</td>\n",
       "      <td>13.000000</td>\n",
       "    </tr>\n",
       "  </tbody>\n",
       "</table>\n",
       "</div>"
      ],
      "text/plain": [
       "        Errors_Q   Errors_A\n",
       "count  25.000000  25.000000\n",
       "mean    5.080000   7.800000\n",
       "std     2.059935   2.645751\n",
       "min     2.000000   3.000000\n",
       "25%     4.000000   6.000000\n",
       "50%     5.000000   8.000000\n",
       "75%     7.000000  10.000000\n",
       "max    10.000000  13.000000"
      ]
     },
     "execution_count": 41,
     "metadata": {},
     "output_type": "execute_result"
    }
   ],
   "source": [
    "keyboards.describe()"
   ]
  },
  {
   "cell_type": "code",
   "execution_count": 42,
   "metadata": {
    "collapsed": true
   },
   "outputs": [],
   "source": [
    "errQ = keyboards['Errors_Q']\n",
    "errA = keyboards['Errors_A']"
   ]
  },
  {
   "cell_type": "markdown",
   "metadata": {},
   "source": [
    "#### Descriptive statistics for QWERTY keyboard errors"
   ]
  },
  {
   "cell_type": "code",
   "execution_count": 43,
   "metadata": {},
   "outputs": [
    {
     "name": "stdout",
     "output_type": "stream",
     "text": [
      "QWERTY errors mean: 5.08\n",
      "QWERTY std dev: 2.05993527406\n"
     ]
    }
   ],
   "source": [
    "errQ_n = len(errQ)\n",
    "errQ_dof = errQ_n - 1\n",
    "errQ_mean = np.mean(errQ)\n",
    "errQ_std  = np.std(errQ, ddof=1)\n",
    "\n",
    "print \"QWERTY errors mean: {0}\".format(errQ_mean)\n",
    "print \"QWERTY std dev: {0}\".format(errQ_std)\n"
   ]
  },
  {
   "cell_type": "markdown",
   "metadata": {},
   "source": [
    "#### Descriptive statistics for Alphabetical keyboard errors"
   ]
  },
  {
   "cell_type": "code",
   "execution_count": 44,
   "metadata": {},
   "outputs": [
    {
     "name": "stdout",
     "output_type": "stream",
     "text": [
      "Alpha errors mean: 7.8\n",
      "Alpha std dev: 2.64575131106\n"
     ]
    }
   ],
   "source": [
    "errA_n = len(errA)\n",
    "errA_dof = errA_n - 1\n",
    "errA_mean = np.mean(errA)\n",
    "errA_std  = np.std(errA, ddof=1)\n",
    "\n",
    "print \"Alpha errors mean: {0}\".format(errA_mean)\n",
    "print \"Alpha std dev: {0}\".format(errA_std)"
   ]
  },
  {
   "cell_type": "code",
   "execution_count": 45,
   "metadata": {},
   "outputs": [
    {
     "data": {
      "image/png": "[encoded data removed]",
      "text/plain": [
       "<matplotlib.figure.Figure at 0xb4c0940>"
      ]
     },
     "metadata": {},
     "output_type": "display_data"
    }
   ],
   "source": [
    "sns.distplot(errQ, bins=8,\\\n",
    "             hist_kws={\"alpha\": 0.7, \"color\": current_palette},\\\n",
    "             kde=False);"
   ]
  },
  {
   "cell_type": "code",
   "execution_count": 46,
   "metadata": {
    "scrolled": true
   },
   "outputs": [
    {
     "data": {
      "image/png": "[encoded data removed]",
      "text/plain": [
       "<matplotlib.figure.Figure at 0xbc1f320>"
      ]
     },
     "metadata": {},
     "output_type": "display_data"
    }
   ],
   "source": [
    "sns.distplot(errA, bins=8,\\\n",
    "             hist_kws={\"alpha\": 0.7, \"color\": current_palette},\\\n",
    "             kde=False);"
   ]
  },
  {
   "cell_type": "markdown",
   "metadata": {},
   "source": [
    "### Motivating problem"
   ]
  },
  {
   "cell_type": "markdown",
   "metadata": {},
   "source": [
    "We want to see if there’s a significant difference between the number of errors made on each keyboard."
   ]
  },
  {
   "cell_type": "markdown",
   "metadata": {},
   "source": [
    "### Hypotheses"
   ]
  },
  {
   "cell_type": "markdown",
   "metadata": {},
   "source": [
    "The null hypothesis is that there’s no significant difference. The population of errors from the QWERTY keyboard (if it were extended to everybody, not just this sample) equals the population of errors using the Alphabetical keyboard.\n",
    "\n",
    "The alternative hypothesis is that the population of errors from the QWERTY keyboard is not equal to the population of errors from the Alphabetical keyboard. \n",
    "\n",
    "$$H_0 : \\: \\mu_{Q} = \\mu_{A} $$\n",
    "\n",
    "$$H_A : \\: \\mu_{Q} \\ne \\mu_{A} $$"
   ]
  },
  {
   "cell_type": "markdown",
   "metadata": {},
   "source": [
    "Notice that the above equations is equivalent to saying that\n",
    "\n",
    "\n",
    "$$H_0 : \\: \\mu_{Q} = \\mu_{A} \\Rightarrow \\mu_{Q} − \\mu_{A} = 0$$\n",
    "$$H_A : \\: \\mu_{Q} = \\mu_{A} \\Rightarrow \\mu_{Q} − \\mu_{A} \\ne 0$$\n",
    "\n"
   ]
  },
  {
   "cell_type": "markdown",
   "metadata": {},
   "source": [
    "### Point estimates \n",
    "\n",
    "What is our point estimate for   or the difference between the population of errors?\n",
    "Since our point estimates are based on our samples, our point estimate would have to be the difference between the sample means.\n",
    "\n",
    "The point estimate  is computed as follows:\n",
    "\n",
    "Point estimate is $$\\mu_Q − \\mu_A$$\n",
    "Point estimate: 5.08 - 7.8 =  -2.72"
   ]
  },
  {
   "cell_type": "code",
   "execution_count": 47,
   "metadata": {},
   "outputs": [],
   "source": [
    "# sample size\n",
    "n = np.shape(keyboards)[0]\n",
    "\n",
    "# degrees of freedom\n",
    "dof = n - 1"
   ]
  },
  {
   "cell_type": "markdown",
   "metadata": {},
   "source": [
    "### Determine the difference between mean errors"
   ]
  },
  {
   "cell_type": "code",
   "execution_count": 48,
   "metadata": {
    "scrolled": true
   },
   "outputs": [
    {
     "data": {
      "text/html": [
       "<div>\n",
       "<style>\n",
       "    .dataframe thead tr:only-child th {\n",
       "        text-align: right;\n",
       "    }\n",
       "\n",
       "    .dataframe thead th {\n",
       "        text-align: left;\n",
       "    }\n",
       "\n",
       "    .dataframe tbody tr th {\n",
       "        vertical-align: top;\n",
       "    }\n",
       "</style>\n",
       "<table border=\"1\" class=\"dataframe\">\n",
       "  <thead>\n",
       "    <tr style=\"text-align: right;\">\n",
       "      <th></th>\n",
       "      <th>Errors_Q</th>\n",
       "      <th>Errors_A</th>\n",
       "      <th>Errors_Diff</th>\n",
       "    </tr>\n",
       "  </thead>\n",
       "  <tbody>\n",
       "    <tr>\n",
       "      <th>0</th>\n",
       "      <td>6</td>\n",
       "      <td>6</td>\n",
       "      <td>0</td>\n",
       "    </tr>\n",
       "    <tr>\n",
       "      <th>1</th>\n",
       "      <td>6</td>\n",
       "      <td>11</td>\n",
       "      <td>-5</td>\n",
       "    </tr>\n",
       "    <tr>\n",
       "      <th>2</th>\n",
       "      <td>2</td>\n",
       "      <td>8</td>\n",
       "      <td>-6</td>\n",
       "    </tr>\n",
       "    <tr>\n",
       "      <th>3</th>\n",
       "      <td>7</td>\n",
       "      <td>5</td>\n",
       "      <td>2</td>\n",
       "    </tr>\n",
       "    <tr>\n",
       "      <th>4</th>\n",
       "      <td>8</td>\n",
       "      <td>11</td>\n",
       "      <td>-3</td>\n",
       "    </tr>\n",
       "    <tr>\n",
       "      <th>5</th>\n",
       "      <td>8</td>\n",
       "      <td>8</td>\n",
       "      <td>0</td>\n",
       "    </tr>\n",
       "  </tbody>\n",
       "</table>\n",
       "</div>"
      ],
      "text/plain": [
       "   Errors_Q  Errors_A  Errors_Diff\n",
       "0         6         6            0\n",
       "1         6        11           -5\n",
       "2         2         8           -6\n",
       "3         7         5            2\n",
       "4         8        11           -3\n",
       "5         8         8            0"
      ]
     },
     "execution_count": 48,
     "metadata": {},
     "output_type": "execute_result"
    }
   ],
   "source": [
    "# Create a new column to hold the difference between means\n",
    "keyboards['Errors_Diff'] = keyboards['Errors_Q'] - keyboards['Errors_A']\n",
    "errDiff = keyboards['Errors_Diff']\n",
    "keyboards[0:6]"
   ]
  },
  {
   "cell_type": "code",
   "execution_count": 49,
   "metadata": {},
   "outputs": [
    {
     "data": {
      "text/plain": [
       "count    25.000000\n",
       "mean     -2.720000\n",
       "std       3.691432\n",
       "min     -11.000000\n",
       "25%      -6.000000\n",
       "50%      -3.000000\n",
       "75%       0.000000\n",
       "max       4.000000\n",
       "Name: Errors_Diff, dtype: float64"
      ]
     },
     "execution_count": 49,
     "metadata": {},
     "output_type": "execute_result"
    }
   ],
   "source": [
    "errDiff.describe()"
   ]
  },
  {
   "cell_type": "code",
   "execution_count": 50,
   "metadata": {},
   "outputs": [
    {
     "name": "stdout",
     "output_type": "stream",
     "text": [
      "Mean of difference of errors: -2.72\n"
     ]
    },
    {
     "data": {
      "image/png": "[encoded data removed]",
      "text/plain": [
       "<matplotlib.figure.Figure at 0xbd42780>"
      ]
     },
     "metadata": {},
     "output_type": "display_data"
    }
   ],
   "source": [
    "sns.distplot(errDiff, bins=8,\\\n",
    "             hist_kws={\"alpha\": 0.7, \"color\": current_palette},\\\n",
    "             kde=False);\n",
    "\n",
    "errDiff_mean = np.mean(errDiff)\n",
    "print \"Mean of difference of errors: {0}\".format(errDiff_mean)"
   ]
  },
  {
   "cell_type": "markdown",
   "metadata": {},
   "source": [
    "### Calculate the standard deviation of the mean difference"
   ]
  },
  {
   "cell_type": "code",
   "execution_count": 51,
   "metadata": {},
   "outputs": [
    {
     "name": "stdout",
     "output_type": "stream",
     "text": [
      "Standard deviation of difference of errors: 3.69143151998\n"
     ]
    }
   ],
   "source": [
    "errDiff_std = np.std(errDiff, ddof=1)\n",
    "print \"Standard deviation of difference of errors: {0}\".format(errDiff_std)"
   ]
  },
  {
   "cell_type": "markdown",
   "metadata": {},
   "source": [
    "### t-statistic of the differences of sample means (paird data)"
   ]
  },
  {
   "cell_type": "markdown",
   "metadata": {},
   "source": [
    "Remember that the t-statistic is the ratio of our point estimate (difference between the means of QWERTY and Alphabetical keyboard errors) and the standard deviation of this point estimate (standard error). \n",
    " \n",
    " $$t = \\frac{\\mu_{Q} - \\mu_{A}}{\\frac{s}{\\sqrt{n}}}$$"
   ]
  },
  {
   "cell_type": "code",
   "execution_count": 54,
   "metadata": {},
   "outputs": [
    {
     "data": {
      "text/plain": [
       "-3.6842075835369266"
      ]
     },
     "execution_count": 54,
     "metadata": {},
     "output_type": "execute_result"
    }
   ],
   "source": [
    "errDiff_tstat = t_stat(errQ_mean, errA_mean, errDiff_std, n)\n",
    "errDiff_tstat"
   ]
  }
 ],
 "metadata": {
  "kernelspec": {
   "display_name": "Python [conda env:DAND]",
   "language": "python",
   "name": "conda-env-DAND-py"
  },
  "language_info": {
   "codemirror_mode": {
    "name": "ipython",
    "version": 2
   },
   "file_extension": ".py",
   "mimetype": "text/x-python",
   "name": "python",
   "nbconvert_exporter": "python",
   "pygments_lexer": "ipython2",
   "version": "2.7.14"
  }
 },
 "nbformat": 4,
 "nbformat_minor": 2
}
