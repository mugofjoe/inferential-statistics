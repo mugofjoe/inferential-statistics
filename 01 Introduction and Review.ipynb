{
 "cells": [
  {
   "cell_type": "markdown",
   "metadata": {},
   "source": [
    "<style>\n",
    ".output_png {\n",
    "    display: table-cell;\n",
    "    text-align: center;\n",
    "    vertical-align: middle;\n",
    "}\n",
    "</style>\n",
    "<div style=\"padding-top:35px;\"></div>\n",
    "# Descriptive Statistics Review\n",
    "\n",
    "According to Ding Zhou, Chief Scientist at Klout, a klout score is a number that measures one's influence across the internet, primarily the social media."
   ]
  },
  {
   "cell_type": "code",
   "execution_count": 4,
   "metadata": {
    "collapsed": true
   },
   "outputs": [],
   "source": [
    "%matplotlib inline"
   ]
  },
  {
   "cell_type": "code",
   "execution_count": 5,
   "metadata": {
    "collapsed": true
   },
   "outputs": [],
   "source": [
    "# Import modules\n",
    "import pandas as pd\n",
    "import numpy as np\n",
    "import matplotlib.pyplot as plt\n",
    "import matplotlib\n",
    "import seaborn as sns\n",
    "import scipy.stats as stats\n",
    "import math\n",
    "\n",
    "sns.set(rc={\"figure.figsize\": (8.5, 5.5)})\n",
    "sns.set_style('white')\n",
    "current_palette = matplotlib.colors.hex2color('#90A4AE')"
   ]
  },
  {
   "cell_type": "markdown",
   "metadata": {},
   "source": [
    "I have a dataset of klout scores in a CSV file. The file has no header, so I specify my own column name called `Score` upon importing."
   ]
  },
  {
   "cell_type": "code",
   "execution_count": 7,
   "metadata": {},
   "outputs": [],
   "source": [
    "filepath = '.\\\\datasets\\\\klout_scores_01.csv'\n",
    "klout_df = pd.read_csv(filepath, names=['Score'])"
   ]
  },
  {
   "cell_type": "markdown",
   "metadata": {},
   "source": [
    "Show the first five records of the klout score dataset."
   ]
  },
  {
   "cell_type": "code",
   "execution_count": 8,
   "metadata": {},
   "outputs": [
    {
     "data": {
      "text/html": [
       "<div>\n",
       "<style>\n",
       "    .dataframe thead tr:only-child th {\n",
       "        text-align: right;\n",
       "    }\n",
       "\n",
       "    .dataframe thead th {\n",
       "        text-align: left;\n",
       "    }\n",
       "\n",
       "    .dataframe tbody tr th {\n",
       "        vertical-align: top;\n",
       "    }\n",
       "</style>\n",
       "<table border=\"1\" class=\"dataframe\">\n",
       "  <thead>\n",
       "    <tr style=\"text-align: right;\">\n",
       "      <th></th>\n",
       "      <th>Score</th>\n",
       "    </tr>\n",
       "  </thead>\n",
       "  <tbody>\n",
       "    <tr>\n",
       "      <th>0</th>\n",
       "      <td>25.104179</td>\n",
       "    </tr>\n",
       "    <tr>\n",
       "      <th>1</th>\n",
       "      <td>60.908747</td>\n",
       "    </tr>\n",
       "    <tr>\n",
       "      <th>2</th>\n",
       "      <td>23.222238</td>\n",
       "    </tr>\n",
       "    <tr>\n",
       "      <th>3</th>\n",
       "      <td>51.553491</td>\n",
       "    </tr>\n",
       "  </tbody>\n",
       "</table>\n",
       "</div>"
      ],
      "text/plain": [
       "       Score\n",
       "0  25.104179\n",
       "1  60.908747\n",
       "2  23.222238\n",
       "3  51.553491"
      ]
     },
     "execution_count": 8,
     "metadata": {},
     "output_type": "execute_result"
    }
   ],
   "source": [
    "klout_df[0:4]"
   ]
  },
  {
   "cell_type": "markdown",
   "metadata": {},
   "source": [
    "Print out the structure of the klout dataset."
   ]
  },
  {
   "cell_type": "code",
   "execution_count": 9,
   "metadata": {
    "scrolled": false
   },
   "outputs": [
    {
     "name": "stdout",
     "output_type": "stream",
     "text": [
      "<class 'pandas.core.frame.DataFrame'>\n",
      "RangeIndex: 1048 entries, 0 to 1047\n",
      "Data columns (total 1 columns):\n",
      "Score    1048 non-null float64\n",
      "dtypes: float64(1)\n",
      "memory usage: 8.3 KB\n"
     ]
    }
   ],
   "source": [
    "klout_df.info()"
   ]
  },
  {
   "cell_type": "markdown",
   "metadata": {},
   "source": [
    "The dataset has 1048 records and 1 column called `Score`. There are no empty or null values in the `Score` column.  The single column holds values that consist of double-precision floating point data types."
   ]
  },
  {
   "cell_type": "markdown",
   "metadata": {},
   "source": [
    "### Population Parameters"
   ]
  },
  {
   "cell_type": "markdown",
   "metadata": {},
   "source": [
    "Let's show the mean and standard deviation of the klout scores. We will use the standard deviation for the population instead of sample standard deviation in measuring the dispersion of klout scores.\n",
    "\n",
    "If you'd like to find the sample standard deviation, you would have to use [Bessel's correction](https://en.wikipedia.org/wiki/Bessel%27s_correction) and pass `ddof=1` in your `numpy.std()` function:\n",
    "\n",
    "`klout_sample_std  = np.std(klout_df['Score'], ddof=1)`"
   ]
  },
  {
   "cell_type": "code",
   "execution_count": 10,
   "metadata": {
    "scrolled": true
   },
   "outputs": [
    {
     "name": "stdout",
     "output_type": "stream",
     "text": [
      "Population Mean: 37.72 \n",
      "Population Standard Deviation: 16.04\n"
     ]
    }
   ],
   "source": [
    "klout_scores = klout_df['Score']\n",
    "klout_mean = round(np.mean(klout_scores), 2)\n",
    "klout_std  = round(np.std(klout_scores), 2)\n",
    "print(\"Population Mean: {0} \\nPopulation Standard Deviation: {1}\".format(klout_mean, klout_std))"
   ]
  },
  {
   "cell_type": "markdown",
   "metadata": {},
   "source": [
    "Another way of getting at a description of the parameters of the klout dataset is by using the `describe()` function.\n",
    "\n",
    "<strong>BEWARE</strong>: The standard deviation parameter of the `describe()` function is for finding the standard deviation of a sample because it uses an unbiased estimator (`n - 1`) by default. "
   ]
  },
  {
   "cell_type": "code",
   "execution_count": 11,
   "metadata": {},
   "outputs": [
    {
     "data": {
      "text/html": [
       "<div>\n",
       "<style>\n",
       "    .dataframe thead tr:only-child th {\n",
       "        text-align: right;\n",
       "    }\n",
       "\n",
       "    .dataframe thead th {\n",
       "        text-align: left;\n",
       "    }\n",
       "\n",
       "    .dataframe tbody tr th {\n",
       "        vertical-align: top;\n",
       "    }\n",
       "</style>\n",
       "<table border=\"1\" class=\"dataframe\">\n",
       "  <thead>\n",
       "    <tr style=\"text-align: right;\">\n",
       "      <th></th>\n",
       "      <th>Score</th>\n",
       "    </tr>\n",
       "  </thead>\n",
       "  <tbody>\n",
       "    <tr>\n",
       "      <th>count</th>\n",
       "      <td>1048.000000</td>\n",
       "    </tr>\n",
       "    <tr>\n",
       "      <th>mean</th>\n",
       "      <td>37.719055</td>\n",
       "    </tr>\n",
       "    <tr>\n",
       "      <th>std</th>\n",
       "      <td>16.044315</td>\n",
       "    </tr>\n",
       "    <tr>\n",
       "      <th>min</th>\n",
       "      <td>10.000000</td>\n",
       "    </tr>\n",
       "    <tr>\n",
       "      <th>25%</th>\n",
       "      <td>23.174620</td>\n",
       "    </tr>\n",
       "    <tr>\n",
       "      <th>50%</th>\n",
       "      <td>41.094683</td>\n",
       "    </tr>\n",
       "    <tr>\n",
       "      <th>75%</th>\n",
       "      <td>50.284432</td>\n",
       "    </tr>\n",
       "    <tr>\n",
       "      <th>max</th>\n",
       "      <td>87.247529</td>\n",
       "    </tr>\n",
       "  </tbody>\n",
       "</table>\n",
       "</div>"
      ],
      "text/plain": [
       "             Score\n",
       "count  1048.000000\n",
       "mean     37.719055\n",
       "std      16.044315\n",
       "min      10.000000\n",
       "25%      23.174620\n",
       "50%      41.094683\n",
       "75%      50.284432\n",
       "max      87.247529"
      ]
     },
     "execution_count": 11,
     "metadata": {},
     "output_type": "execute_result"
    }
   ],
   "source": [
    "klout_df.describe()"
   ]
  },
  {
   "cell_type": "markdown",
   "metadata": {},
   "source": [
    "The distribution of klout data is shown below. "
   ]
  },
  {
   "cell_type": "code",
   "execution_count": 12,
   "metadata": {
    "scrolled": false
   },
   "outputs": [
    {
     "data": {
      "image/png": "[encoded data removed]",
      "text/plain": [
       "<matplotlib.figure.Figure at 0x7e78160>"
      ]
     },
     "metadata": {},
     "output_type": "display_data"
    }
   ],
   "source": [
    "sns.distplot(klout_scores, bins=20, hist_kws={\"alpha\": 0.7, \"color\": current_palette});"
   ]
  },
  {
   "cell_type": "markdown",
   "metadata": {},
   "source": [
    "The histogram shows that the distribution of klout scores is bimodal with a population mean of approximately 37.72."
   ]
  },
  {
   "cell_type": "markdown",
   "metadata": {},
   "source": [
    "## Sampling Distribution"
   ]
  },
  {
   "cell_type": "markdown",
   "metadata": {},
   "source": [
    "Let's check the skew of the klout population scores."
   ]
  },
  {
   "cell_type": "code",
   "execution_count": 13,
   "metadata": {},
   "outputs": [
    {
     "name": "stdout",
     "output_type": "stream",
     "text": [
      "Klout population score skew: -0.134510400248\n"
     ]
    }
   ],
   "source": [
    "klout_skew = stats.skew(klout_scores)\n",
    "print(\"Klout population score skew: {0}\".format(klout_skew))"
   ]
  },
  {
   "cell_type": "markdown",
   "metadata": {},
   "source": [
    "The distribution of klout scores does not appear to have a normal skew. This characteristic may be exhibited in any sample that we draw from the population. I'll take a sample from the klout score population to verify this.\n",
    "\n",
    "Below, we take a sample of size 35 from the klout score population and plot a histogram."
   ]
  },
  {
   "cell_type": "code",
   "execution_count": 14,
   "metadata": {
    "scrolled": true
   },
   "outputs": [
    {
     "data": {
      "image/png": "[encoded data removed]",
      "text/plain": [
       "<matplotlib.figure.Figure at 0xb96ffd0>"
      ]
     },
     "metadata": {},
     "output_type": "display_data"
    }
   ],
   "source": [
    "np.random.seed(2)\n",
    "klout_scores_sample = np.random.choice(a=klout_scores, size=35)\n",
    "\n",
    "plt.figure(figsize=(8.5, 5.5))\n",
    "sns.distplot(klout_scores_sample, bins=20, hist_kws={\"alpha\": 0.7, \"color\": current_palette});"
   ]
  },
  {
   "cell_type": "markdown",
   "metadata": {},
   "source": [
    "As we can see, the sample of klout scores roughly exhibits a similar bimodal shape as the population from which it was derived. Can we apply the statistical tools that assume a normal distribution to the klout dataset?\n",
    "\n",
    "The central limit theorem would still allow us to use statistical tools over the klout dataset even if the underlying distribution is itself not normally distributed. \n",
    "\n",
    "The central limit theorem proposes that the distribution of sample means (sampling distribution) will be normally distributed and we can use the sample mean as if it were drawn from a normal distribution.\n",
    "\n",
    "To illustrate this, let's take 1,000 samples from the population of klout scores with each sample having a sample size of 35 (`n=35`). We then get the mean (point estimate) from each sample and collect the means to form a sampling distribution of sample means."
   ]
  },
  {
   "cell_type": "code",
   "execution_count": 15,
   "metadata": {},
   "outputs": [
    {
     "data": {
      "image/png": "[encoded data removed]",
      "text/plain": [
       "<matplotlib.figure.Figure at 0xb878908>"
      ]
     },
     "metadata": {},
     "output_type": "display_data"
    }
   ],
   "source": [
    "np.random.seed(2)\n",
    "sample_means = []\n",
    "n = 35\n",
    "\n",
    "for x in range(100000):\n",
    "    sample = np.random.choice(a=klout_scores, size=n)\n",
    "    sample_means.append(sample.mean())\n",
    "    \n",
    "plt.figure(figsize=(8.5, 5.5))\n",
    "sns.distplot(sample_means, bins=20, hist_kws={\"alpha\": 0.7, \"color\": current_palette});"
   ]
  },
  {
   "cell_type": "markdown",
   "metadata": {},
   "source": [
    "The sampling distribution of sample means tend to be nearly normal. This is despite the bimodal shape of the underlying klout score population distribution from which the samples were drawn.  \n",
    "\n",
    "Moreover, the mean of the sample means or the mean of the sampling distribution seems to approach the true population mean. \n",
    "\n",
    "However, it is interesting to note that the standard deviation of the sample means is much lower than the population standard deviation as we can expect the means of the sample means to be closer to each other and not dispersed."
   ]
  },
  {
   "cell_type": "code",
   "execution_count": 16,
   "metadata": {
    "scrolled": true
   },
   "outputs": [
    {
     "name": "stdout",
     "output_type": "stream",
     "text": [
      "Mean of the Sampling Distribution: 37.72\n"
     ]
    }
   ],
   "source": [
    "n = 35\n",
    "sampling_dist_mean = round(np.mean(sample_means), 2)\n",
    "print(\"Mean of the Sampling Distribution: {0}\".format(sampling_dist_mean))"
   ]
  },
  {
   "cell_type": "markdown",
   "metadata": {},
   "source": [
    "### Standard Error \n",
    "\n",
    "The standard deviation of the distribution of sample means (sampling distribution) is the population standard deviation divided by the square root of the sample size (n). This is also called the **standard error**.\n",
    "\n"
   ]
  },
  {
   "cell_type": "markdown",
   "metadata": {},
   "source": [
    "$$SE = \\frac{\\sigma} {\\sqrt{n}}$$"
   ]
  },
  {
   "cell_type": "markdown",
   "metadata": {},
   "source": [
    "> The population standard deviation is usually not available. Thus, we often resort to the point estimate of the standard deviation from a sample to use for our $\\sigma$ parameter."
   ]
  },
  {
   "cell_type": "code",
   "execution_count": 18,
   "metadata": {},
   "outputs": [
    {
     "name": "stdout",
     "output_type": "stream",
     "text": [
      "Standard Error for n=35: 2.71\n"
     ]
    }
   ],
   "source": [
    "sampling_dist_std = round((klout_std / math.sqrt(n)), 2)\n",
    "# Standard error is just the standard deviation of the sampling distribution\n",
    "print(\"Standard Error for n=35: {0}\".format(sampling_dist_std))"
   ]
  },
  {
   "cell_type": "code",
   "execution_count": null,
   "metadata": {
    "collapsed": true
   },
   "outputs": [],
   "source": [
    "# %matplotlib inline\n",
    "# from plotnine import *\n",
    "# from plotnine.data import *\n",
    "\n",
    "# ggplot(klout_df, aes(x='Score')) + geom_histogram()   "
   ]
  },
  {
   "cell_type": "markdown",
   "metadata": {},
   "source": [
    "### Location of Mean on Sampling Distribution\n",
    "\n",
    "\n",
    "Why is knowing the shape of the sampling distribution important?\n",
    "\n",
    "A high klout score has something to do with how influential a person is according to hundreds of factors or signals collected from the internet and social media sites."
   ]
  },
  {
   "cell_type": "markdown",
   "metadata": {},
   "source": [
    "The klout score dataset consists of 1,048 klout scores with a population mean of 37.72 and a population standard deviation of 16.04.\n",
    "\n",
    "One hundred thousand samples with a sample size of 35 klout scores each is taken from the population and the mean of each set of samples is collected to form a sampling distribution of sample means. The sampling distribution has a mean of 37.72 and a standard deviation of 2.71.\n",
    "\n",
    "#### Test on an app that increases one's Klout score \n",
    "\n",
    "It has been touted that an app can enhance one's klout score. We would like to find out if people who actually use the app had their klout scores increased. We took a sample of 35 persons who use the app and obtained a klout score mean of 40 from this sample.\n",
    "\n",
    "- Where does the sample mean of 40 fall in the distribution of sample means of other samples with the same sample size (35)?  \n",
    "\n",
    "    - i.e. How many standard deviations above the mean of the sampling distribution (37.72) does our sample mean of 40 lie?\n",
    "\n",
    "    - i.e. What's the z-score for a mean of 40 given a sampling distribution mean of 37.72 and a standard deviation of 2.71?\n",
    "\n",
    "\n"
   ]
  },
  {
   "cell_type": "markdown",
   "metadata": {},
   "source": [
    "$$ z-score = \\frac{x - u} {SE} $$\n",
    "\n",
    "where $u$ is the mean of the sampling distribution, $x$ is the mean of our current sample.\n",
    "\n",
    "$$ z-score_{\\ \\bar{x} \\ = \\  40} = \\frac{40 - 37.72} {2.71} = 0.8413 $$"
   ]
  },
  {
   "cell_type": "code",
   "execution_count": 19,
   "metadata": {},
   "outputs": [
    {
     "name": "stdout",
     "output_type": "stream",
     "text": [
      "Z-score for sample mean of forty: 0.84\n"
     ]
    }
   ],
   "source": [
    "sample_mean = 40\n",
    "z_score_35 = round((sample_mean - sampling_dist_mean)/(sampling_dist_std),2)\n",
    "print(\"Z-score for sample mean of forty: {0}\".format(z_score_35))"
   ]
  },
  {
   "cell_type": "markdown",
   "metadata": {},
   "source": [
    "> A **z-score** is the number of standard deviations by which the value of an observation or data point is above or below the mean of what is being observed or measured."
   ]
  },
  {
   "cell_type": "markdown",
   "metadata": {},
   "source": [
    "From the graph of our cumulative distribution function above, we see that a klout sample mean of 40 (x-axis) looks like it's above the mean of the distribution of sample means or sampling distribution (37.72). \n",
    "\n",
    "How many standard deviations this mean of 40 is above 37.72? The answer is: the sample klout score mean of 40 is a little less than one standard deviation above the sampling distribution mean. To be more precise, it is 0.84 or 21/25th standard deviation above the sampling distribution mean."
   ]
  },
  {
   "cell_type": "markdown",
   "metadata": {},
   "source": [
    "What's the probability of randomly drawing a sample of size 35 with a mean of at least 40?  \n",
    "\n",
    "We would normally use the Z-table to determine this probability. But we can use a different tool.\n",
    "\n",
    "### Find the probability of getting a sample of size 35 with a mean that is less than (or greater than) a mean of 40"
   ]
  },
  {
   "cell_type": "code",
   "execution_count": 20,
   "metadata": {},
   "outputs": [
    {
     "data": {
      "text/plain": [
       "0.2"
      ]
     },
     "execution_count": 20,
     "metadata": {},
     "output_type": "execute_result"
    }
   ],
   "source": [
    "prob_lt_40 = round(stats.norm.cdf(z_score_35), 2)\n",
    "prob_gt_40 = round((1 - prob_lt_40), 2)\n",
    "prob_gt_40"
   ]
  },
  {
   "cell_type": "markdown",
   "metadata": {},
   "source": [
    "### Does low probability = causation?\n",
    "\n",
    "The probability of getting a sample of size 35 with a mean less than 40 is 0.7995. So, the probability of getting a sample of size 35 with a mean greater 40 is `1 - 0.7995` or **only about  `0.2` ** (`0.2005` to be precise).\n",
    "\n",
    "> There is a 20% probability of obtaining a sample of 35 people whose klout score mean is greater than 40.\n",
    "\n",
    "It is somewhat unlikely to have randomly drawn a sample from the whole klout population with a mean of 40. \n",
    "\n",
    "If this mean was not selected by chance (i.e, the results of the sample reflects what is truly happening in the total population), then it's possible that the app could have played a role in increasing these people's klout scores.\n",
    "\n",
    "### How unlikely is a probability of 0.2005?\n",
    "\n",
    "Can we say that the app *caused* these higher klout scores? No we can't.\n",
    "\n",
    "All we know that the app users tend to have higher klout scores on average. \n",
    "\n",
    "- Maybe the app caused this but maybe it's just that users with already higher klout tended to be the ones who use the app."
   ]
  },
  {
   "cell_type": "markdown",
   "metadata": {},
   "source": [
    "### Increasing the sample size\n",
    "\n",
    "Let's suppose the sample size is now 250 and they also have a mean klout score of 40. Now what's the likelihood of randomly selecting from the klout population a sample of size 250 whose mean is at least 40?\n",
    "\n",
    "Let's find the standard error."
   ]
  },
  {
   "cell_type": "code",
   "execution_count": 21,
   "metadata": {},
   "outputs": [
    {
     "name": "stdout",
     "output_type": "stream",
     "text": [
      "Standard Error of the Sampling Distribution: 1.01\n"
     ]
    }
   ],
   "source": [
    "n = 250\n",
    "sampling_dist_std = round((klout_std / math.sqrt(n)), 2)\n",
    "\n",
    "# Standard Error\n",
    "print(\"Standard Error of the Sampling Distribution: {0}\".format(sampling_dist_std))"
   ]
  },
  {
   "cell_type": "markdown",
   "metadata": {},
   "source": [
    "The standard error (standard deviation of the sample means) for a sample size of 250 turns out to be even lower at 1.01 compared to 2.71 standard error for a sample size of 35.\n",
    "\n",
    "Let's now compute the z-score or the number of standard deviations our sample mean of 40 is away from the population mean."
   ]
  },
  {
   "cell_type": "code",
   "execution_count": 22,
   "metadata": {},
   "outputs": [
    {
     "name": "stdout",
     "output_type": "stream",
     "text": [
      "Z-score for a Sample Mean of 40: 2.26\n"
     ]
    }
   ],
   "source": [
    "sample_mean = 40\n",
    "z_score_250 = round((sample_mean - sampling_dist_mean)/(sampling_dist_std),2)\n",
    "print(\"Z-score for a Sample Mean of 40: {0}\".format(z_score_250))"
   ]
  },
  {
   "cell_type": "markdown",
   "metadata": {},
   "source": [
    "The probability of getting a sample with a size of 250 klout scores whose sample mean is 40 is implemented below."
   ]
  },
  {
   "cell_type": "code",
   "execution_count": 23,
   "metadata": {},
   "outputs": [
    {
     "data": {
      "text/plain": [
       "0.01"
      ]
     },
     "execution_count": 23,
     "metadata": {},
     "output_type": "execute_result"
    }
   ],
   "source": [
    "prob_lt_40 = round(stats.norm.cdf(z_score_250), 2)\n",
    "prob_gt_40 = round((1 - prob_lt_40), 2)\n",
    "prob_gt_40"
   ]
  },
  {
   "cell_type": "markdown",
   "metadata": {},
   "source": [
    "This yields a very low probability. The new samping distribution has a very skinny shape because of the low standard deviation.\n",
    "\n",
    "The probability of getting a sample with mean greater than 40 is very small (0.01). \n",
    "\n",
    "> Getting a sample of size 250 with a mean of 40 is pretty unlikely to occur by chance. \n",
    "\n",
    "In this case, this shows some kind of probable relationship between the app and klout score."
   ]
  },
  {
   "cell_type": "code",
   "execution_count": 24,
   "metadata": {},
   "outputs": [
    {
     "data": {
      "image/png": "[encoded data removed]",
      "text/plain": [
       "<matplotlib.figure.Figure at 0xb809240>"
      ]
     },
     "metadata": {},
     "output_type": "display_data"
    }
   ],
   "source": [
    "np.random.seed(2)\n",
    "sample_means = []\n",
    "n = 250\n",
    "\n",
    "for x in range(100000):\n",
    "    sample = np.random.choice(a=klout_scores, size=n)\n",
    "    sample_means.append(sample.mean())\n",
    "    \n",
    "plt.figure(figsize=(8.5, 5.5))\n",
    "sns.distplot(sample_means, bins=20, hist_kws={\"alpha\": 0.7, \"color\": current_palette});"
   ]
  },
  {
   "cell_type": "markdown",
   "metadata": {},
   "source": [
    "You will notice that the data point of 40 (which stands for the mean of the sample of 250 klout scores) is very near the edge of the right tail of the distribution. It's 2.26 standard deviations away from the mean of the sampling distribution.\n",
    "\n",
    "The very tiny and narrow space under the curve past 40 represents the 0.01 probability of coming across similarly sized samples (n=250) with a sample mean greater than 40."
   ]
  }
 ],
 "metadata": {
  "kernelspec": {
   "display_name": "Python [conda env:DAND]",
   "language": "python",
   "name": "conda-env-DAND-py"
  },
  "language_info": {
   "codemirror_mode": {
    "name": "ipython",
    "version": 2
   },
   "file_extension": ".py",
   "mimetype": "text/x-python",
   "name": "python",
   "nbconvert_exporter": "python",
   "pygments_lexer": "ipython2",
   "version": "2.7.14"
  }
 },
 "nbformat": 4,
 "nbformat_minor": 2
}
