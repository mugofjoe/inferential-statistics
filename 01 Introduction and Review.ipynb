{
 "cells": [
  {
   "cell_type": "markdown",
   "metadata": {},
   "source": [
    "<style>\n",
    ".output_png {\n",
    "    display: table-cell;\n",
    "    text-align: center;\n",
    "    vertical-align: middle;\n",
    "}\n",
    "</style>\n",
    "<div style=\"padding-top:35px;\"></div>\n",
    "# Descriptive Statistics Review\n",
    "\n",
    "According to Ding Zhou, Chief Scientist at Klout, a klout score is a number that measures one's influence across the internet, primarily the social media."
   ]
  },
  {
   "cell_type": "code",
   "execution_count": 39,
   "metadata": {},
   "outputs": [],
   "source": [
    "%matplotlib inline"
   ]
  },
  {
   "cell_type": "code",
   "execution_count": 53,
   "metadata": {},
   "outputs": [],
   "source": [
    "# Import modules\n",
    "import pandas as pd\n",
    "import numpy as np\n",
    "import matplotlib.pyplot as plt\n",
    "import matplotlib\n",
    "import seaborn as sns\n",
    "import scipy.stats as stats\n",
    "import math\n",
    "\n",
    "sns.set(rc={\"figure.figsize\": (8.5, 5.5)})\n",
    "sns.set_style('white')\n",
    "current_palette = matplotlib.colors.hex2color('#03A9F4')"
   ]
  },
  {
   "cell_type": "markdown",
   "metadata": {},
   "source": [
    "I have a dataset of klout scores in a CSV file. The file has no header, so I specify my own column name called `Score` upon importing."
   ]
  },
  {
   "cell_type": "code",
   "execution_count": 2,
   "metadata": {},
   "outputs": [],
   "source": [
    "filepath = '.\\\\datasets\\\\klout_scores_01.csv'\n",
    "klout_df = pd.read_csv(filepath, names=['Score'])"
   ]
  },
  {
   "cell_type": "markdown",
   "metadata": {},
   "source": [
    "Show the first five records of the klout score dataset."
   ]
  },
  {
   "cell_type": "code",
   "execution_count": 3,
   "metadata": {},
   "outputs": [
    {
     "data": {
      "text/html": [
       "<div>\n",
       "<style scoped>\n",
       "    .dataframe tbody tr th:only-of-type {\n",
       "        vertical-align: middle;\n",
       "    }\n",
       "\n",
       "    .dataframe tbody tr th {\n",
       "        vertical-align: top;\n",
       "    }\n",
       "\n",
       "    .dataframe thead th {\n",
       "        text-align: right;\n",
       "    }\n",
       "</style>\n",
       "<table border=\"1\" class=\"dataframe\">\n",
       "  <thead>\n",
       "    <tr style=\"text-align: right;\">\n",
       "      <th></th>\n",
       "      <th>Score</th>\n",
       "    </tr>\n",
       "  </thead>\n",
       "  <tbody>\n",
       "    <tr>\n",
       "      <th>0</th>\n",
       "      <td>25.104179</td>\n",
       "    </tr>\n",
       "    <tr>\n",
       "      <th>1</th>\n",
       "      <td>60.908747</td>\n",
       "    </tr>\n",
       "    <tr>\n",
       "      <th>2</th>\n",
       "      <td>23.222238</td>\n",
       "    </tr>\n",
       "    <tr>\n",
       "      <th>3</th>\n",
       "      <td>51.553491</td>\n",
       "    </tr>\n",
       "  </tbody>\n",
       "</table>\n",
       "</div>"
      ],
      "text/plain": [
       "       Score\n",
       "0  25.104179\n",
       "1  60.908747\n",
       "2  23.222238\n",
       "3  51.553491"
      ]
     },
     "execution_count": 3,
     "metadata": {},
     "output_type": "execute_result"
    }
   ],
   "source": [
    "klout_df[0:4]"
   ]
  },
  {
   "cell_type": "markdown",
   "metadata": {},
   "source": [
    "Print out the structure of the klout dataset."
   ]
  },
  {
   "cell_type": "code",
   "execution_count": 4,
   "metadata": {
    "scrolled": false
   },
   "outputs": [
    {
     "name": "stdout",
     "output_type": "stream",
     "text": [
      "<class 'pandas.core.frame.DataFrame'>\n",
      "RangeIndex: 1048 entries, 0 to 1047\n",
      "Data columns (total 1 columns):\n",
      "Score    1048 non-null float64\n",
      "dtypes: float64(1)\n",
      "memory usage: 8.3 KB\n"
     ]
    }
   ],
   "source": [
    "klout_df.info()"
   ]
  },
  {
   "cell_type": "markdown",
   "metadata": {},
   "source": [
    "The dataset has 1048 records and 1 column called `Score`. There are no empty or null values in the `Score` column.  The single column holds values that consist of double-precision floating point data types."
   ]
  },
  {
   "cell_type": "markdown",
   "metadata": {},
   "source": [
    "### Population Parameters"
   ]
  },
  {
   "cell_type": "markdown",
   "metadata": {},
   "source": [
    "Let's show the mean and standard deviation of the klout scores. We will use the standard deviation for the population instead of sample standard deviation in measuring the dispersion of klout scores.\n",
    "\n",
    "If you'd like to find the sample standard deviation, you would have to use [Bessel's correction](https://en.wikipedia.org/wiki/Bessel%27s_correction) and pass `ddof=1` in your `numpy.std()` function:\n",
    "\n",
    "`klout_sample_std  = np.std(klout_df['Score'], ddof=1)`"
   ]
  },
  {
   "cell_type": "code",
   "execution_count": 5,
   "metadata": {
    "scrolled": true
   },
   "outputs": [
    {
     "name": "stdout",
     "output_type": "stream",
     "text": [
      "Population Mean: 37.7190548325 \n",
      "Population Standard Deviation: 16.0366584217\n"
     ]
    }
   ],
   "source": [
    "klout_scores = klout_df['Score']\n",
    "klout_mean = np.mean(klout_scores)\n",
    "klout_std  = np.std(klout_scores)\n",
    "print(\"Population Mean: {0} \\nPopulation Standard Deviation: {1}\".format(klout_mean, klout_std))"
   ]
  },
  {
   "cell_type": "markdown",
   "metadata": {},
   "source": [
    "Another way of getting at a description of the parameters of the klout dataset is by using the `describe()` function.\n",
    "\n",
    "<strong>BEWARE</strong>: The standard deviation parameter of the `describe()` function is for finding the standard deviation of a sample because it uses an unbiased estimator (`n - 1`) by default. "
   ]
  },
  {
   "cell_type": "code",
   "execution_count": 6,
   "metadata": {},
   "outputs": [
    {
     "data": {
      "text/html": [
       "<div>\n",
       "<style scoped>\n",
       "    .dataframe tbody tr th:only-of-type {\n",
       "        vertical-align: middle;\n",
       "    }\n",
       "\n",
       "    .dataframe tbody tr th {\n",
       "        vertical-align: top;\n",
       "    }\n",
       "\n",
       "    .dataframe thead th {\n",
       "        text-align: right;\n",
       "    }\n",
       "</style>\n",
       "<table border=\"1\" class=\"dataframe\">\n",
       "  <thead>\n",
       "    <tr style=\"text-align: right;\">\n",
       "      <th></th>\n",
       "      <th>Score</th>\n",
       "    </tr>\n",
       "  </thead>\n",
       "  <tbody>\n",
       "    <tr>\n",
       "      <th>count</th>\n",
       "      <td>1048.000000</td>\n",
       "    </tr>\n",
       "    <tr>\n",
       "      <th>mean</th>\n",
       "      <td>37.719055</td>\n",
       "    </tr>\n",
       "    <tr>\n",
       "      <th>std</th>\n",
       "      <td>16.044315</td>\n",
       "    </tr>\n",
       "    <tr>\n",
       "      <th>min</th>\n",
       "      <td>10.000000</td>\n",
       "    </tr>\n",
       "    <tr>\n",
       "      <th>25%</th>\n",
       "      <td>23.174620</td>\n",
       "    </tr>\n",
       "    <tr>\n",
       "      <th>50%</th>\n",
       "      <td>41.094683</td>\n",
       "    </tr>\n",
       "    <tr>\n",
       "      <th>75%</th>\n",
       "      <td>50.284432</td>\n",
       "    </tr>\n",
       "    <tr>\n",
       "      <th>max</th>\n",
       "      <td>87.247529</td>\n",
       "    </tr>\n",
       "  </tbody>\n",
       "</table>\n",
       "</div>"
      ],
      "text/plain": [
       "             Score\n",
       "count  1048.000000\n",
       "mean     37.719055\n",
       "std      16.044315\n",
       "min      10.000000\n",
       "25%      23.174620\n",
       "50%      41.094683\n",
       "75%      50.284432\n",
       "max      87.247529"
      ]
     },
     "execution_count": 6,
     "metadata": {},
     "output_type": "execute_result"
    }
   ],
   "source": [
    "klout_df.describe()"
   ]
  },
  {
   "cell_type": "markdown",
   "metadata": {},
   "source": [
    "The distribution of klout data is shown below. "
   ]
  },
  {
   "cell_type": "code",
   "execution_count": 57,
   "metadata": {
    "scrolled": false
   },
   "outputs": [
    {
     "data": {
      "image/png": "[encoded data removed]",
      "text/plain": [
       "<matplotlib.figure.Figure at 0xec378d0>"
      ]
     },
     "metadata": {},
     "output_type": "display_data"
    }
   ],
   "source": [
    "sns.distplot(klout_scores, bins=20, hist_kws={\"alpha\": 0.7, \"color\": current_palette});"
   ]
  },
  {
   "cell_type": "markdown",
   "metadata": {},
   "source": [
    "The histogram shows that the distribution of klout scores is bimodal with a population mean of approximately 37.72."
   ]
  },
  {
   "cell_type": "markdown",
   "metadata": {},
   "source": [
    "## Sampling Distribution"
   ]
  },
  {
   "cell_type": "markdown",
   "metadata": {},
   "source": [
    "Let's check the skew of the klout population scores."
   ]
  },
  {
   "cell_type": "code",
   "execution_count": 8,
   "metadata": {},
   "outputs": [
    {
     "name": "stdout",
     "output_type": "stream",
     "text": [
      "Klout population score skew: -0.134510400248\n"
     ]
    }
   ],
   "source": [
    "klout_skew = stats.skew(klout_scores)\n",
    "print(\"Klout population score skew: {0}\".format(klout_skew))"
   ]
  },
  {
   "cell_type": "markdown",
   "metadata": {},
   "source": [
    "The distribution of klout scores does not appear to have a normal skew. This characteristic may be exhibited in any sample that we draw from the population. I'll take a sample from the klout score population to verify this.\n",
    "\n",
    "Below, we take a sample of size 35 from the klout score population and plot a histogram."
   ]
  },
  {
   "cell_type": "code",
   "execution_count": 59,
   "metadata": {
    "scrolled": true
   },
   "outputs": [
    {
     "data": {
      "image/png": "[encoded data removed]",
      "text/plain": [
       "<matplotlib.figure.Figure at 0xd010978>"
      ]
     },
     "metadata": {},
     "output_type": "display_data"
    }
   ],
   "source": [
    "np.random.seed(11)\n",
    "klout_scores_sample = np.random.choice(a=klout_scores, size=35)\n",
    "\n",
    "plt.figure(figsize=(8.5, 5.5))\n",
    "sns.distplot(klout_scores_sample, bins=20, hist_kws={\"alpha\": 0.7, \"color\": current_palette});"
   ]
  },
  {
   "cell_type": "markdown",
   "metadata": {},
   "source": [
    "As we can see, the sample of klout scores roughly exhibits a similar bimodal shape as the population from which it was derived. Can we apply the statistical tools that assume a normal distribution to the klout dataset?\n",
    "\n",
    "The central limit theorem would still allow us to use statistical tools over the klout dataset even if the underlying distribution is itself not normally distributed. \n",
    "\n",
    "The central limit theorem proposes that the distribution of sample means (sampling distribution) will be normally distributed and we can use the sample mean as if it were drawn from a normal distribution.\n",
    "\n",
    "To illustrate this, let's take 1,000 samples from the population of klout scores with each sample having a sample size of 35 (`n=35`). We then get the mean (point estimate) from each sample and collect the means to form a sampling distribution of sample means."
   ]
  },
  {
   "cell_type": "code",
   "execution_count": 60,
   "metadata": {},
   "outputs": [
    {
     "data": {
      "image/png": "[encoded data removed]",
      "text/plain": [
       "<matplotlib.figure.Figure at 0xd033748>"
      ]
     },
     "metadata": {},
     "output_type": "display_data"
    }
   ],
   "source": [
    "np.random.seed(11)\n",
    "sample_means = []\n",
    "n = 35\n",
    "\n",
    "for x in range(1000):\n",
    "    sample = np.random.choice(a=klout_scores, size=n)\n",
    "    sample_means.append(sample.mean())\n",
    "    \n",
    "plt.figure(figsize=(8.5, 5.5))\n",
    "sns.distplot(sample_means, bins=20, hist_kws={\"alpha\": 0.7, \"color\": current_palette});"
   ]
  },
  {
   "cell_type": "markdown",
   "metadata": {},
   "source": [
    "The sampling distribution of sample means tend to be nearly normal. This is despite the bimodal shape of the underlying klout score population distribution from which the samples were drawn.  \n",
    "\n",
    "Moreover, the mean of the sample means or the mean of the sampling distribution seems to approach the true population mean. \n",
    "\n",
    "However, it is interesting to note that the standard deviation of the sample means is much lower than the population standard deviation as we can expect the means of the sample means to be closer to each other and not dispersed."
   ]
  },
  {
   "cell_type": "code",
   "execution_count": 11,
   "metadata": {
    "scrolled": true
   },
   "outputs": [
    {
     "name": "stdout",
     "output_type": "stream",
     "text": [
      "Mean of the Sampling Distribution: 37.6418236273\n"
     ]
    }
   ],
   "source": [
    "print(\"Mean of the Sampling Distribution: {0}\".format(np.mean(sample_means)))"
   ]
  },
  {
   "cell_type": "markdown",
   "metadata": {},
   "source": []
  },
  {
   "cell_type": "markdown",
   "metadata": {},
   "source": [
    "$$\\frac{\\sigma} {\\sqrt{n}}$$"
   ]
  },
  {
   "cell_type": "code",
   "execution_count": 126,
   "metadata": {},
   "outputs": [
    {
     "name": "stdout",
     "output_type": "stream",
     "text": [
      "Standard Deviation of the Sampling Distribution: 2.71069001935\n"
     ]
    }
   ],
   "source": [
    "sampling_dist_std = klout_std / math.sqrt(n)\n",
    "print(\"Standard Deviation of the Sampling Distribution: {0}\".format(sampling_dist_std))"
   ]
  },
  {
   "cell_type": "code",
   "execution_count": 25,
   "metadata": {},
   "outputs": [
    {
     "data": {
      "image/png": "[encoded data removed]",
      "text/plain": [
       "<matplotlib.figure.Figure at 0xd5bdac8>"
      ]
     },
     "metadata": {},
     "output_type": "display_data"
    },
    {
     "data": {
      "text/plain": [
       "<ggplot: (14220706)>"
      ]
     },
     "execution_count": 25,
     "metadata": {},
     "output_type": "execute_result"
    }
   ],
   "source": [
    "# %matplotlib inline\n",
    "# from plotnine import *\n",
    "# from plotnine.data import *\n",
    "\n",
    "# ggplot(klout_df, aes(x='Score')) + geom_histogram()   \n"
   ]
  }
 ],
 "metadata": {
  "kernelspec": {
   "display_name": "Python [conda env:DAND]",
   "language": "python",
   "name": "conda-env-DAND-py"
  },
  "language_info": {
   "codemirror_mode": {
    "name": "ipython",
    "version": 2
   },
   "file_extension": ".py",
   "mimetype": "text/x-python",
   "name": "python",
   "nbconvert_exporter": "python",
   "pygments_lexer": "ipython2",
   "version": "2.7.14"
  }
 },
 "nbformat": 4,
 "nbformat_minor": 2
}
