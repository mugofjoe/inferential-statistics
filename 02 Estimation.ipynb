{
 "cells": [
  {
   "cell_type": "markdown",
   "metadata": {},
   "source": [
    "<div style=\"padding-top:35px;\"></div>\n",
    "# Estimation\n",
    "\n",
    "According to Ding Zhou, Chief Scientist at Klout, a klout score is a number that measures one's influence across the internet, primarily the social media."
   ]
  },
  {
   "cell_type": "code",
   "execution_count": 1,
   "metadata": {
    "collapsed": true
   },
   "outputs": [],
   "source": [
    "%matplotlib inline"
   ]
  },
  {
   "cell_type": "code",
   "execution_count": 3,
   "metadata": {
    "collapsed": true
   },
   "outputs": [],
   "source": [
    "# Import modules\n",
    "import pandas as pd\n",
    "import numpy as np\n",
    "import matplotlib.pyplot as plt\n",
    "import matplotlib\n",
    "import seaborn as sns\n",
    "import scipy.stats as stats\n",
    "import math\n",
    "\n",
    "sns.set(rc={\"figure.figsize\": (8.5, 5.5)})\n",
    "sns.set_style('white')\n",
    "current_palette = matplotlib.colors.hex2color('#90A4AE')"
   ]
  },
  {
   "cell_type": "code",
   "execution_count": 8,
   "metadata": {},
   "outputs": [],
   "source": [
    "filepath = '.\\\\datasets\\\\klout_scores_01.csv'\n",
    "klout_df = pd.read_csv(filepath, names=['Score'])"
   ]
  },
  {
   "cell_type": "markdown",
   "metadata": {},
   "source": [
    "|                    | Population | Sampling Distribution |\n",
    "|:-------------------|-----------:|----------------------:|\n",
    "|               Size |       1048 |                    35 |\n",
    "|               Mean |      37.72 |                 37.72 |\n",
    "| StDev or SE |      16.04 |                  2.71 |\n",
    "|                    |            |                       |"
   ]
  },
  {
   "cell_type": "markdown",
   "metadata": {},
   "source": [
    "We are given a population of klout scores with the poplulation parameters given above.\n",
    "\n",
    "We know from the [central limit theorem](https://en.wikipedia.org/wiki/Central_limit_theorem) that if we took all possible samples all of the same size (in our case, n=35) and find the mean of each sample and graph the distribution of those sample means, we would get a normal curve with a mean equal to the population mean and a standard deviation equal to the population standard deviation divided by the square root of the sample size `(SE = 2.71)`\n",
    "\n",
    "We also have the information about a sample of 35 individuals who use a klout-enhancing app and the mean of their klout scores is 40. "
   ]
  },
  {
   "cell_type": "markdown",
   "metadata": {},
   "source": [
    "#### Is it possible to estimate what the mean klout score would be if everyone started to use an a twitter-enhancing app?\n",
    "\n",
    "\n",
    "\n",
    "If everyone in the klout population started using the klout-enhancing app, what would be our buest guess for the population mean klout score?"
   ]
  },
  {
   "cell_type": "markdown",
   "metadata": {},
   "source": [
    "We can't make any conclusive statements but we only have the statistics for this one sample ( $ \\bar{x} \\ = \\ 40 $ ).\n",
    "\n",
    "So our best guess for the population mean of the klout scores of the entire population who started using the app would be 40 since we have on hand a sample of people who just use the app and their mean klout score is 40. "
   ]
  },
  {
   "cell_type": "markdown",
   "metadata": {},
   "source": [
    "> **point estimation** involves the use of sample data to calculate a single value (known as a point estimate or statistic) which is to serve as a \"best guess\" or \"best estimate\" of an unknown population parameter (for example, the population mean)."
   ]
  }
 ],
 "metadata": {
  "kernelspec": {
   "display_name": "Python [conda env:DAND]",
   "language": "python",
   "name": "conda-env-DAND-py"
  },
  "language_info": {
   "codemirror_mode": {
    "name": "ipython",
    "version": 2
   },
   "file_extension": ".py",
   "mimetype": "text/x-python",
   "name": "python",
   "nbconvert_exporter": "python",
   "pygments_lexer": "ipython2",
   "version": "2.7.14"
  }
 },
 "nbformat": 4,
 "nbformat_minor": 2
}
