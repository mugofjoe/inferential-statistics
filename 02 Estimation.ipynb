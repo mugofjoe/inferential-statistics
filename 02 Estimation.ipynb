{
 "cells": [
  {
   "cell_type": "markdown",
   "metadata": {},
   "source": [
    "<div style=\"padding-top:30px;\"></div>\n",
    "# Estimation\n",
    "\n"
   ]
  },
  {
   "cell_type": "code",
   "execution_count": 1,
   "metadata": {
    "collapsed": true
   },
   "outputs": [],
   "source": [
    "%matplotlib inline"
   ]
  },
  {
   "cell_type": "code",
   "execution_count": 3,
   "metadata": {
    "collapsed": true
   },
   "outputs": [],
   "source": [
    "# Import modules\n",
    "import pandas as pd\n",
    "import numpy as np\n",
    "import matplotlib.pyplot as plt\n",
    "import matplotlib\n",
    "import seaborn as sns\n",
    "import scipy.stats as stats\n",
    "import math\n",
    "\n",
    "sns.set(rc={\"figure.figsize\": (8.5, 5.5)})\n",
    "sns.set_style('white')\n",
    "current_palette = matplotlib.colors.hex2color('#90A4AE')"
   ]
  },
  {
   "cell_type": "code",
   "execution_count": 8,
   "metadata": {},
   "outputs": [],
   "source": [
    "filepath = '.\\\\datasets\\\\klout_scores_01.csv'\n",
    "klout_df = pd.read_csv(filepath, names=['Score'])"
   ]
  },
  {
   "cell_type": "markdown",
   "metadata": {},
   "source": [
    "<div style=\"padding-top: 1em;\"></div>\n",
    "\n",
    "|                    | Population | Sampling Distribution |\n",
    "|:-------------------|-----------:|----------------------:|\n",
    "|               Size |       1048 |                    35 |\n",
    "|               Mean |      37.72 |                 37.72 |\n",
    "| StDev or SE |      16.04 |                  2.71 |\n",
    "|                    |            |                       |\n",
    "\n",
    "<div style=\"padding-top: 1em;\"></div>"
   ]
  },
  {
   "cell_type": "markdown",
   "metadata": {},
   "source": [
    "We are given a population of klout scores with the poplulation parameters given above.\n",
    "\n",
    "We know from the [central limit theorem](https://en.wikipedia.org/wiki/Central_limit_theorem) that if we took all possible samples all of the same size (in our case, n=35) and find the mean of each sample and graph the distribution of those sample means, we would get a normal curve with a mean equal to the population mean and a standard deviation equal to the population standard deviation divided by the square root of the sample size `(SE = 2.71)`\n",
    "\n",
    "We also have the information about a sample of 35 individuals who use a klout-enhancing app and the mean of their klout scores is 40. "
   ]
  },
  {
   "cell_type": "markdown",
   "metadata": {},
   "source": [
    "#### Is it possible to estimate what the mean klout score would be if everyone started to use an a twitter-enhancing app?\n",
    "\n",
    "\n",
    "\n",
    "If everyone in the klout population started using the klout-enhancing app, what would be our buest guess for the population mean klout score?"
   ]
  },
  {
   "cell_type": "markdown",
   "metadata": {},
   "source": [
    "We can't make any conclusive statements but we only have the statistics for this one sample ( $ \\bar{x} \\ = \\ 40 $ ).\n",
    "\n",
    "So our best guess for the population mean of the klout scores of the entire population who started using the app would be 40 since we have on hand a sample of people who just use the app and their mean klout score is 40. This value 40 is called the point estimate. This is our best guess for the population mean if everyone started using the klout-enhancing app."
   ]
  },
  {
   "cell_type": "markdown",
   "metadata": {},
   "source": [
    "> **point estimation** involves the use of sample data to calculate a single value (known as a point estimate or statistic) which is to serve as a \"best guess\" or \"best estimate\" of an unknown population parameter (for example, the population mean)."
   ]
  },
  {
   "cell_type": "markdown",
   "metadata": {},
   "source": [
    "#### If everyone started using the klout-enhancing app, do you think the mean klout score would be exactly 40? \n",
    "\n",
    "No. When you have a population and you take a sample, the sample statistic (or point estimate) won't be exactly equal to the population parameter.\n",
    "\n",
    "> **Sampling variation** suggests that point estimates generally vary from one sample to another. Our point estimate may be close but it will not be exactly equal to the population parameter."
   ]
  },
  {
   "cell_type": "markdown",
   "metadata": {},
   "source": [
    "There's a range of values for the mean that any sample could have. If we had some kind of intervention on the population (in this case, the klout-enhancing app) and everyone started using the app, then our best guess is that the mean would be about 40 but it could be anything around 40. \n",
    "\n",
    "In other words, there's a range around our sample statistic mean of 40 that the *true population mean* would be if everyone where to use the klout-enhancing app. \n",
    "\n",
    "How big is this interval? "
   ]
  }
 ],
 "metadata": {
  "kernelspec": {
   "display_name": "Python [conda env:DAND]",
   "language": "python",
   "name": "conda-env-DAND-py"
  },
  "language_info": {
   "codemirror_mode": {
    "name": "ipython",
    "version": 2
   },
   "file_extension": ".py",
   "mimetype": "text/x-python",
   "name": "python",
   "nbconvert_exporter": "python",
   "pygments_lexer": "ipython2",
   "version": "2.7.14"
  }
 },
 "nbformat": 4,
 "nbformat_minor": 2
}
