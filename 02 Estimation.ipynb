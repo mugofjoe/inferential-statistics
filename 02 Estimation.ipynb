{
 "cells": [
  {
   "cell_type": "markdown",
   "metadata": {},
   "source": [
    "<div style=\"padding-top:30px;\"></div>\n",
    "\n",
    "# Estimation\n",
    "\n",
    "<div style=\"padding-bottom:15px;\"></div>"
   ]
  },
  {
   "cell_type": "code",
   "execution_count": 17,
   "metadata": {
    "collapsed": true
   },
   "outputs": [],
   "source": [
    "%matplotlib inline"
   ]
  },
  {
   "cell_type": "code",
   "execution_count": 18,
   "metadata": {
    "collapsed": true
   },
   "outputs": [],
   "source": [
    "# Import modules\n",
    "import pandas as pd\n",
    "import numpy as np\n",
    "import matplotlib.pyplot as plt\n",
    "import matplotlib\n",
    "import seaborn as sns\n",
    "import scipy.stats as stats\n",
    "import math\n",
    "\n",
    "sns.set(rc={\"figure.figsize\": (8.5, 5.5)})\n",
    "sns.set_style('white')\n",
    "current_palette = matplotlib.colors.hex2color('#90A4AE')"
   ]
  },
  {
   "cell_type": "code",
   "execution_count": 19,
   "metadata": {
    "collapsed": true
   },
   "outputs": [],
   "source": [
    "filepath = '.\\\\datasets\\\\klout_scores_01.csv'\n",
    "klout_df = pd.read_csv(filepath, names=['Score'])"
   ]
  },
  {
   "cell_type": "markdown",
   "metadata": {},
   "source": [
    "<div style=\"padding-top: 1em;\"></div>\n",
    "\n",
    "|                    | Population | Sampling Distribution |\n",
    "|:-------------------|-----------:|----------------------:|\n",
    "|               Size |       1048 |                    35 |\n",
    "|               Mean |      37.72 |                 37.72 |\n",
    "| StDev or SE |      16.04 |                  2.71 |\n",
    "|                    |            |                       |\n",
    "\n",
    "<div style=\"padding-top: 1em;\"></div>"
   ]
  },
  {
   "cell_type": "markdown",
   "metadata": {},
   "source": [
    "We are given a population of klout scores with the poplulation parameters given above.\n",
    "\n",
    "We know from the [central limit theorem](https://en.wikipedia.org/wiki/Central_limit_theorem) that if we took all possible samples all of the same size (in our case, n=35) and find the mean of each sample and graph the distribution of those sample means, we would get a normal curve with a mean equal to the population mean and a standard deviation equal to the population standard deviation divided by the square root of the sample size `(SE = 2.71)`\n",
    "\n",
    "We also have the information about a sample of 35 individuals who use a klout-enhancing app and the mean of their klout scores is 40. "
   ]
  },
  {
   "cell_type": "markdown",
   "metadata": {},
   "source": [
    "#### Is it possible to estimate what the mean klout score would be if everyone started to use an a twitter-enhancing app?\n",
    "\n",
    "\n",
    "\n",
    "If everyone in the klout population started using the klout-enhancing app, what would be our buest guess for the population mean klout score?"
   ]
  },
  {
   "cell_type": "markdown",
   "metadata": {},
   "source": [
    "We can't make any conclusive statements but we only have the statistics for this one sample ( $ \\bar{x} \\ = \\ 40 $ ).\n",
    "\n",
    "So our best guess for the population mean of the klout scores of the entire population who started using the app would be 40 since we have on hand a sample of people who just use the app and their mean klout score is 40. This value 40 is called the **point estimate**. This is our best guess for the population mean if everyone started using the klout-enhancing app."
   ]
  },
  {
   "cell_type": "markdown",
   "metadata": {},
   "source": [
    "> **point estimation** involves the use of sample data to calculate a single value (known as a point estimate or statistic) which is to serve as a \"best guess\" or \"best estimate\" of an unknown population parameter (for example, the population mean)."
   ]
  },
  {
   "cell_type": "markdown",
   "metadata": {},
   "source": [
    "#### If everyone started using the klout-enhancing app, do you think the mean klout score would be exactly 40? \n",
    "\n",
    "No. When you have a population and you take a sample, the sample statistic (or point estimate) won't be exactly equal to the population parameter.\n",
    "\n",
    "> **Sampling variation** suggests that point estimates generally vary from one sample to another. Our point estimate may be close but it will not be exactly equal to the population parameter."
   ]
  },
  {
   "cell_type": "markdown",
   "metadata": {},
   "source": [
    "There's a range of values for the mean that any sample could have. If we had some kind of intervention on the population (in this case, the klout-enhancing app) and everyone started using the app, then our best guess is that the mean would be about 40 but it could be anything around 40. \n",
    "\n",
    "In other words, there's a range around our sample statistic mean of 40 that the *true population mean* would be if everyone where to use the klout-enhancing app. \n",
    "\n",
    "How big is this interval? \n",
    "\n",
    "\n",
    "\n",
    "\n",
    "### Percent of Sample Means\n",
    "\n",
    "\n",
    "In sampling distribution, approximately what percent of sample means fall within 2 standard errors of the population mean? \n",
    "\n",
    "Answer: 95% of sample means fall within 2 *standard errors* of the population mean.\n",
    "\n",
    "$2SE = \\frac{2 \\sigma} {\\sqrt{n}}$\n",
    "\n",
    "\n",
    "Here, we are talking abou the sampling distribution, so each score in the dataset is a mean (sample mean) and the standard deviation is the population standard deviation divided by the square root of the sample size.\n",
    "\n",
    "On the other hand, in a normal distribution, about 68% of the data points are within 1 standard deviation of the mean and 95% of the data points are within 2 standard deviations of the mean.\n",
    "\n",
    "### Approximate Margin of Error\n",
    "\n",
    "95% of sample means are within 2 standard deviations (standard errors) on either side of the population mean. This distance is called the margin of error.\n",
    "\n",
    "What does this tell us about this value of 40? \n",
    "\n",
    "If everyone started using the klout-enhancing app, we're guessing that there'd be a new population distribution of klout scores but we don't know what it would be. \n",
    "\n",
    "But we do know that one of the samples of size 35 has a sample mean of 40. Now if 95% of sample means are within 2 x SE, *then the sample mean value of 40 has a 95% chance of being within 2 x SE of this new population mean* if everyone used the klout-enhancing app.\n",
    "\n",
    "### Interval Estimate for Population Mean\n",
    "\n",
    "We know that 95% of sample means will be within 2 standard deviations from the mean of sample means. Most likely the sample mean of 40 is one of the 95% that will fall within two standard deviations of the new sampling distribution if everyone used the app. \n",
    "\n",
    "So, we have this new predicted population mean ($\\mu_{new}$) and our best guess for this is 40 but it will be within an interval around 40 most likely. \n",
    "\n",
    "And we know that 95% of sample means just of people who use the app will be within this interval. Most likely, our sample mean of 40 will be one of those 95%. \n",
    "\n",
    "$$ ( \\mu_{new}-2 \\frac{ \\sigma } {\\sqrt{n}} , \\  \\mu_{new}+2 \\frac{ \\sigma } {\\sqrt{n}} )$$\n",
    "\n",
    "\n",
    "Let's assume that our sample mean of 40 is in that interval. If this sample mean is indeed within this interval, then what could the population mean be?\n",
    "\n",
    "If 40 is in this interval, we know that 40 has to be greater than the lower bound value, but smaller than the upper bound value. \n",
    "\n",
    "$$ \\mu_{new}-2 \\frac{ \\sigma } {\\sqrt{n}} \\ < 40 < \\  \\mu_{new}+2 \\frac{ \\sigma } {\\sqrt{n}} $$\n",
    "\n",
    "So we're trying to solve for the population mean (solve the inequality).\n",
    "\n",
    "$$\n",
    "40 +  \\frac{2 \\sigma } {\\sqrt{n}} > \\mu_{new} > 40 - \\frac{2 \\sigma } {\\sqrt{n}} \n",
    "$$\n",
    "\n",
    "\n",
    "We know that 95% of sample means will fall within two standard errors of the population mean. We're guessing that the sample mean we have (40) is one of those that falls within this interval. If that's the case, we're pretty sure that the population mean then is between the sample mean plus or minus 2 x SE. \n",
    "\n",
    "\n",
    "\n",
    "\n",
    "\n",
    "\n",
    "\n",
    "\n",
    "\n",
    "\n"
   ]
  },
  {
   "cell_type": "markdown",
   "metadata": {},
   "source": [
    "#### Compute the z-score below which lies 2.5% of the data in a normal distribution"
   ]
  },
  {
   "cell_type": "code",
   "execution_count": 20,
   "metadata": {},
   "outputs": [
    {
     "data": {
      "text/plain": [
       "-1.96"
      ]
     },
     "execution_count": 20,
     "metadata": {},
     "output_type": "execute_result"
    }
   ],
   "source": [
    "round(stats.norm.ppf(.025), 2)"
   ]
  },
  {
   "cell_type": "markdown",
   "metadata": {},
   "source": [
    "#### Compute the probability of getting a score less than -1.96 standard deviations from the mean\n",
    "\n",
    "i.e. Compute the probability of getting a score less than a z-score of -1.96."
   ]
  },
  {
   "cell_type": "code",
   "execution_count": 21,
   "metadata": {},
   "outputs": [
    {
     "data": {
      "text/plain": [
       "0.025"
      ]
     },
     "execution_count": 21,
     "metadata": {},
     "output_type": "execute_result"
    }
   ],
   "source": [
    "round(stats.norm.cdf(-1.96), 3)"
   ]
  },
  {
   "cell_type": "markdown",
   "metadata": {},
   "source": [
    "# Case Study - Engagement Ratio\n",
    "\n",
    "- Standard Error\n",
    "- Confidence Interval\n",
    "- Inference from Intuition"
   ]
  },
  {
   "cell_type": "markdown",
   "metadata": {},
   "source": [
    "The Engagement Ratio data measures student enjoyment of the videos by getting the ratio of the number of minutes each person has watched over the total minutes that are available."
   ]
  },
  {
   "cell_type": "code",
   "execution_count": 22,
   "metadata": {
    "collapsed": true
   },
   "outputs": [],
   "source": [
    "filepath = '.\\\\datasets\\\\engagement_ratio.csv'\n",
    "engagement_df = pd.read_csv(filepath, names=['Ratio'])"
   ]
  },
  {
   "cell_type": "code",
   "execution_count": 23,
   "metadata": {},
   "outputs": [
    {
     "name": "stdout",
     "output_type": "stream",
     "text": [
      "<class 'pandas.core.frame.DataFrame'>\n",
      "RangeIndex: 8702 entries, 0 to 8701\n",
      "Data columns (total 1 columns):\n",
      "Ratio    8702 non-null float64\n",
      "dtypes: float64(1)\n",
      "memory usage: 68.1 KB\n"
     ]
    }
   ],
   "source": [
    "engagement_df.info()"
   ]
  },
  {
   "cell_type": "code",
   "execution_count": 24,
   "metadata": {},
   "outputs": [
    {
     "data": {
      "text/html": [
       "<div>\n",
       "<style>\n",
       "    .dataframe thead tr:only-child th {\n",
       "        text-align: right;\n",
       "    }\n",
       "\n",
       "    .dataframe thead th {\n",
       "        text-align: left;\n",
       "    }\n",
       "\n",
       "    .dataframe tbody tr th {\n",
       "        vertical-align: top;\n",
       "    }\n",
       "</style>\n",
       "<table border=\"1\" class=\"dataframe\">\n",
       "  <thead>\n",
       "    <tr style=\"text-align: right;\">\n",
       "      <th></th>\n",
       "      <th>Ratio</th>\n",
       "    </tr>\n",
       "  </thead>\n",
       "  <tbody>\n",
       "    <tr>\n",
       "      <th>count</th>\n",
       "      <td>8.702000e+03</td>\n",
       "    </tr>\n",
       "    <tr>\n",
       "      <th>mean</th>\n",
       "      <td>7.726584e-02</td>\n",
       "    </tr>\n",
       "    <tr>\n",
       "      <th>std</th>\n",
       "      <td>1.072157e-01</td>\n",
       "    </tr>\n",
       "    <tr>\n",
       "      <th>min</th>\n",
       "      <td>2.730000e-10</td>\n",
       "    </tr>\n",
       "    <tr>\n",
       "      <th>25%</th>\n",
       "      <td>7.793588e-03</td>\n",
       "    </tr>\n",
       "    <tr>\n",
       "      <th>50%</th>\n",
       "      <td>3.614075e-02</td>\n",
       "    </tr>\n",
       "    <tr>\n",
       "      <th>75%</th>\n",
       "      <td>1.039706e-01</td>\n",
       "    </tr>\n",
       "    <tr>\n",
       "      <th>max</th>\n",
       "      <td>1.000000e+00</td>\n",
       "    </tr>\n",
       "  </tbody>\n",
       "</table>\n",
       "</div>"
      ],
      "text/plain": [
       "              Ratio\n",
       "count  8.702000e+03\n",
       "mean   7.726584e-02\n",
       "std    1.072157e-01\n",
       "min    2.730000e-10\n",
       "25%    7.793588e-03\n",
       "50%    3.614075e-02\n",
       "75%    1.039706e-01\n",
       "max    1.000000e+00"
      ]
     },
     "execution_count": 24,
     "metadata": {},
     "output_type": "execute_result"
    }
   ],
   "source": [
    "engagement_df.describe()"
   ]
  },
  {
   "cell_type": "code",
   "execution_count": 25,
   "metadata": {},
   "outputs": [
    {
     "data": {
      "text/html": [
       "<div>\n",
       "<style>\n",
       "    .dataframe thead tr:only-child th {\n",
       "        text-align: right;\n",
       "    }\n",
       "\n",
       "    .dataframe thead th {\n",
       "        text-align: left;\n",
       "    }\n",
       "\n",
       "    .dataframe tbody tr th {\n",
       "        vertical-align: top;\n",
       "    }\n",
       "</style>\n",
       "<table border=\"1\" class=\"dataframe\">\n",
       "  <thead>\n",
       "    <tr style=\"text-align: right;\">\n",
       "      <th></th>\n",
       "      <th>Ratio</th>\n",
       "    </tr>\n",
       "  </thead>\n",
       "  <tbody>\n",
       "    <tr>\n",
       "      <th>0</th>\n",
       "      <td>0.000149</td>\n",
       "    </tr>\n",
       "    <tr>\n",
       "      <th>1</th>\n",
       "      <td>0.032047</td>\n",
       "    </tr>\n",
       "    <tr>\n",
       "      <th>2</th>\n",
       "      <td>0.071611</td>\n",
       "    </tr>\n",
       "    <tr>\n",
       "      <th>3</th>\n",
       "      <td>0.120725</td>\n",
       "    </tr>\n",
       "    <tr>\n",
       "      <th>4</th>\n",
       "      <td>0.004766</td>\n",
       "    </tr>\n",
       "    <tr>\n",
       "      <th>5</th>\n",
       "      <td>0.005119</td>\n",
       "    </tr>\n",
       "    <tr>\n",
       "      <th>6</th>\n",
       "      <td>0.019828</td>\n",
       "    </tr>\n",
       "    <tr>\n",
       "      <th>7</th>\n",
       "      <td>0.002235</td>\n",
       "    </tr>\n",
       "    <tr>\n",
       "      <th>8</th>\n",
       "      <td>0.004188</td>\n",
       "    </tr>\n",
       "    <tr>\n",
       "      <th>9</th>\n",
       "      <td>0.047041</td>\n",
       "    </tr>\n",
       "  </tbody>\n",
       "</table>\n",
       "</div>"
      ],
      "text/plain": [
       "      Ratio\n",
       "0  0.000149\n",
       "1  0.032047\n",
       "2  0.071611\n",
       "3  0.120725\n",
       "4  0.004766\n",
       "5  0.005119\n",
       "6  0.019828\n",
       "7  0.002235\n",
       "8  0.004188\n",
       "9  0.047041"
      ]
     },
     "execution_count": 25,
     "metadata": {},
     "output_type": "execute_result"
    }
   ],
   "source": [
    "engagement_df[0:10]"
   ]
  },
  {
   "cell_type": "code",
   "execution_count": 26,
   "metadata": {},
   "outputs": [
    {
     "name": "stdout",
     "output_type": "stream",
     "text": [
      "Population Mean: 0.077 \n",
      "Population Standard Deviation: 0.107\n"
     ]
    }
   ],
   "source": [
    "ratios = engagement_df['Ratio']\n",
    "ratio_mean = round(np.mean(ratios), 3)\n",
    "ratio_std  = round(np.std(ratios, ddof=1), 3)\n",
    "print(\"Population Mean: {0} \\nPopulation Standard Deviation: {1}\".format(ratio_mean, ratio_std))"
   ]
  },
  {
   "cell_type": "code",
   "execution_count": 27,
   "metadata": {},
   "outputs": [
    {
     "data": {
      "image/png": "[encoded data removed]",
      "text/plain": [
       "<matplotlib.figure.Figure at 0xb327630>"
      ]
     },
     "metadata": {},
     "output_type": "display_data"
    }
   ],
   "source": [
    "sns.distplot(ratios, bins=20, hist_kws={\"alpha\": 0.7, \"color\": current_palette}, kde=False);"
   ]
  },
  {
   "cell_type": "markdown",
   "metadata": {},
   "source": [
    "<div style=\"padding-top: 1em;\"></div>\n",
    "\n",
    "|                    | Population | \n",
    "|:-------------------|-----------:|\n",
    "|               Size |       8702 |\n",
    "|               Mean |      0.077 |\n",
    "| StDev |      0.107|       \n",
    "|                    |            |\n",
    "\n",
    "<div style=\"padding-top: 1em;\"></div>"
   ]
  },
  {
   "cell_type": "markdown",
   "metadata": {},
   "source": [
    "We will look into whether or not the addition of an entertaining lesson would increase or decrease the engagegment ratio of the people who watch the videos."
   ]
  },
  {
   "cell_type": "markdown",
   "metadata": {},
   "source": [
    "#### Point estimate\n",
    "\n",
    "We have a sample of 20 students who have access to the Hypothesis Testing Song. We collected the engagement ratios for each student and calculated the sample's mean engagement ratio to be 0.13.\n",
    "\n",
    "If we make this Hypothesis Testing Song lesson available to all 8,702 students, what is our point estimate for the engagement ratio based on this sample?\n",
    "\n",
    "Answer: The point estimate for the engagement ratio is 0.13.\n",
    "\n",
    "Since the sample had an average engagement ratio of 0.13 we would guess that the population will have an engagement ratio of 0.13.\n",
    "\n",
    "This means that on average, out of every hour of content available, students would watch almost 8 minutes if we introduce this new lesson with the song.\n",
    "\n",
    "\n",
    "\n",
    "\n",
    "\n"
   ]
  },
  {
   "cell_type": "markdown",
   "metadata": {},
   "source": [
    "#### Standard error\n",
    "\n",
    "What is the standard error of the mean that we would use to compare this sample mean with the means of other samples of the same size?\n",
    "\n",
    "\n",
    "<div style=\"padding-top: 1em;\"></div>\n",
    "\n",
    "|                    | Population | \n",
    "|:-------------------|-----------:|\n",
    "|               Sample size |       20 |\n",
    "|               Population Standard Deviation |      0.107 |\n",
    "\n",
    "\n",
    "<div style=\"padding-top: 1em;\"></div>"
   ]
  },
  {
   "cell_type": "markdown",
   "metadata": {},
   "source": [
    "Here's how we calculate the standard error of the sampling distribution with a sample size of 20 \n",
    "\n",
    "$$SE = \\frac{\\sigma} {\\sqrt{n}}$$\n",
    "\n",
    "$$SE = \\frac{0.107} {\\sqrt{20}} \\ = 0.023926 \\  or \\  0.024$$\n",
    "\n",
    "Remember that the sampling distribution is made up of the sample means. One standard error away from the population mean of 0.077 is 0.024 if the size of each sample in the sampling distribution is 20.\n",
    "\n",
    "When we found that the mean engagement ratio of our sample of size 20 was 0.13, we can compare our sample on this sampling distribution in terms of the standard error. We want to know how many standard errors our mean of 0.13 is from the population mean. "
   ]
  },
  {
   "cell_type": "markdown",
   "metadata": {},
   "source": [
    "#### Interval estimate\n",
    "\n",
    "We want a 95% confidence interval. \n",
    "\n",
    "Based on the results from our sample mean (0.13) then the true population mean **if everyone has access to the Hypothesis Testing Song Lesson**, will be somewhere around 0.13.\n",
    "\n",
    "And with a 95% confidence interval we're assuming that the sample mean of 0.13 is one of the 95% sample means that will be around the true population mean. \n",
    "\n",
    "If the sample mean of 0.13 is within the 95% of the population mean, then the population mean can be some standard errors below or above our sample mean (0.13). \n",
    "\n",
    "What are the values of the lower and upper bounds of $\\mu_I$ (the population mean of the distribution with intervention)?\n",
    "\n",
    "$$Confidence \\  Interval: \\ \\  \\bar{x} \\  \\pm  \\  (z−score) \\ SE$$"
   ]
  },
  {
   "cell_type": "code",
   "execution_count": 28,
   "metadata": {},
   "outputs": [
    {
     "data": {
      "text/plain": [
       "1.96"
      ]
     },
     "execution_count": 28,
     "metadata": {},
     "output_type": "execute_result"
    }
   ],
   "source": [
    "# z-score for 95% confidence level\n",
    "z_score_95 = abs(round(stats.norm.ppf(.025), 2))\n",
    "z_score_95"
   ]
  },
  {
   "cell_type": "code",
   "execution_count": 29,
   "metadata": {},
   "outputs": [
    {
     "name": "stdout",
     "output_type": "stream",
     "text": [
      "\n",
      "\n",
      "Population standard deviation: 0.107\n",
      "Sampling distribution standard error: 0.024\n",
      "\n",
      "\n",
      "Estimated location of the true population mean if everyone had access to the singing lesson:\n",
      "Confidence interval lower bound: 0.08\n",
      "Confidence interval upper bound: 0.18\n",
      "\n",
      "\n"
     ]
    }
   ],
   "source": [
    "sample_size = 20\n",
    "eng_sample_20_mean = 0.13\n",
    "std_error = ratio_std / math.sqrt(sample_size)\n",
    "print(\"\\n\")\n",
    "print \"Population standard deviation: {0}\".format(ratio_std)\n",
    "print(\"Sampling distribution standard error: {0}\".format(round(std_error, 3)))\n",
    "\n",
    "print(\"\\n\")\n",
    "print(\"Estimated location of the true population mean if everyone had access to the singing lesson:\")\n",
    "CI_lower = eng_sample_20_mean - (z_score_95 * std_error)\n",
    "print(\"Confidence interval lower bound: {0}\".format(round(CI_lower, 2)))\n",
    "\n",
    "CI_upper = eng_sample_20_mean + (z_score_95 * std_error)\n",
    "print(\"Confidence interval upper bound: {0}\".format(round(CI_upper, 2)))\n",
    "print(\"\\n\")"
   ]
  },
  {
   "cell_type": "markdown",
   "metadata": {},
   "source": [
    "This is the ration of minutes watched of all the lessons to total minutes available.\n",
    "\n",
    "We are predicting that, if we incorporated the musical lesson, then the entire population of 8,702 students will watch between 83/1000 and 177/1000 of all content available.\n",
    "\n",
    "$$ \\frac{5 \\ min \\ watched}{60 \\ min \\ available} \\ = \\  \\frac{0.083 \\ min \\ watched}{min \\ available} $$\n",
    "\n",
    "$$ \\frac{10.62 \\ min \\ watched}{60 \\ min \\ available} \\ = \\  \\frac{0.177 \\ min \\ watched}{min \\ available} $$\n",
    "\n",
    "That's 5 to 10.62 minutes per 60 minutes of available.\n",
    "\n",
    "Since we know that the engagement ratio right now is 0.077, that's about 4.62 minutes watched out of every 60 minutes of content available.\n",
    "\n",
    "Then according to our calculations, we're pretty sure that this musical lesson will increase the amount of video watched to at least 5 minutes per 60 minutes of content and possible up to 10.62 minutes per 60 minutes of content available. \n",
    "\n",
    "If all of this actually happened, then we could say that the musical lesson increased the engagement."
   ]
  },
  {
   "cell_type": "markdown",
   "metadata": {},
   "source": [
    "## The General Confidence Interval"
   ]
  },
  {
   "cell_type": "markdown",
   "metadata": {},
   "source": [
    "- **Standard error** is the standard deviation of the sampling distribution from samples of size n\n",
    "\n",
    "- $\\bar{x}$ is the sample mean\n",
    "\n",
    "- $\\mu$ is the original population mean\n",
    "\n",
    "The formula to find the 95% confidence interval for the population mean after the intervention $\\mu_{I}$ is\n",
    "\n",
    "$$ \\left( \\bar{x} - z \\cdot \\frac{ \\sigma } {\\sqrt{n}} \\ \\ , \\ \\  \\bar{x} + z \\cdot \\frac{ \\sigma } {\\sqrt{n}} \\right)$$\n",
    "\n",
    "\n",
    "\n",
    "\n",
    "\n",
    "\n",
    "$$ \\left( \\bar{x} - 1.96 \\cdot SE \\ \\ , \\ \\  \\bar{x} + 1.96 \\cdot SE \\right)$$\n",
    "\n"
   ]
  },
  {
   "cell_type": "code",
   "execution_count": 51,
   "metadata": {},
   "outputs": [],
   "source": [
    "from scipy.stats import norm\n",
    "def draw_z_score(x, cond, mu, sigma, title):\n",
    "    # https://stackoverflow.com/questions/46375553/standard-normal-distribution-in-python\n",
    "    y = stats.norm.pdf(x, mu, sigma)\n",
    "    z = x[cond]\n",
    "    plt.plot(x, y)\n",
    "    plt.fill_between(z, 0, norm.pdf(z, mu, sigma), color=current_palette)\n",
    "    plt.title(title)\n",
    "    plt.show()"
   ]
  },
  {
   "cell_type": "code",
   "execution_count": 52,
   "metadata": {},
   "outputs": [
    {
     "data": {
      "image/png": "[encoded data removed]",
      "text/plain": [
       "<matplotlib.figure.Figure at 0xc9afa90>"
      ]
     },
     "metadata": {},
     "output_type": "display_data"
    }
   ],
   "source": [
    "x = np.arange(-3,3,0.001)\n",
    "z0 = 1.96\n",
    "draw_z_score(x, (-z0 < x) & (x < z0), 0, 1, '-1.96 < z < 1.96')"
   ]
  },
  {
   "cell_type": "code",
   "execution_count": null,
   "metadata": {
    "collapsed": true
   },
   "outputs": [],
   "source": []
  }
 ],
 "metadata": {
  "kernelspec": {
   "display_name": "Python [conda env:DAND]",
   "language": "python",
   "name": "conda-env-DAND-py"
  },
  "language_info": {
   "codemirror_mode": {
    "name": "ipython",
    "version": 2
   },
   "file_extension": ".py",
   "mimetype": "text/x-python",
   "name": "python",
   "nbconvert_exporter": "python",
   "pygments_lexer": "ipython2",
   "version": "2.7.14"
  }
 },
 "nbformat": 4,
 "nbformat_minor": 2
}
